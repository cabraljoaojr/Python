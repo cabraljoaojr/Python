{
  "nbformat": 4,
  "nbformat_minor": 0,
  "metadata": {
    "colab": {
      "provenance": []
    },
    "kernelspec": {
      "name": "python3",
      "display_name": "Python 3"
    },
    "language_info": {
      "name": "python"
    }
  },
  "cells": [
    {
      "cell_type": "markdown",
      "source": [
        "# **OBJETIVO**\n",
        "___\n",
        "\n",
        " - EXTRAIR DADOS PÚBLICOS DE COMPRAS GOVERNAMENTAIS;\n",
        " - TRATAR OS DADOS;\n",
        " - ARMAZENAR OS DADOS EM UM ARQUIVO"
      ],
      "metadata": {
        "id": "SQhB2BZvbgOW"
      }
    },
    {
      "cell_type": "markdown",
      "source": [
        "## EXTRACT\n",
        "---"
      ],
      "metadata": {
        "id": "esG6LVz5nq5h"
      }
    },
    {
      "cell_type": "code",
      "source": [
        "pip install pyspark"
      ],
      "metadata": {
        "colab": {
          "base_uri": "https://localhost:8080/"
        },
        "id": "4kUT2jIyzv3o",
        "outputId": "f5786041-aa9c-45e1-8258-ac4b8374b85b"
      },
      "execution_count": null,
      "outputs": [
        {
          "output_type": "stream",
          "name": "stdout",
          "text": [
            "Collecting pyspark\n",
            "  Downloading pyspark-3.5.2.tar.gz (317.3 MB)\n",
            "\u001b[2K     \u001b[90m━━━━━━━━━━━━━━━━━━━━━━━━━━━━━━━━━━━━━━━━\u001b[0m \u001b[32m317.3/317.3 MB\u001b[0m \u001b[31m4.7 MB/s\u001b[0m eta \u001b[36m0:00:00\u001b[0m\n",
            "\u001b[?25h  Preparing metadata (setup.py) ... \u001b[?25l\u001b[?25hdone\n",
            "Requirement already satisfied: py4j==0.10.9.7 in /usr/local/lib/python3.10/dist-packages (from pyspark) (0.10.9.7)\n",
            "Building wheels for collected packages: pyspark\n",
            "  Building wheel for pyspark (setup.py) ... \u001b[?25l\u001b[?25hdone\n",
            "  Created wheel for pyspark: filename=pyspark-3.5.2-py2.py3-none-any.whl size=317812365 sha256=93468271d4504b53984e5a7ec2404765b5de8f29eaa6cdc756bd7345d8d72b73\n",
            "  Stored in directory: /root/.cache/pip/wheels/34/34/bd/03944534c44b677cd5859f248090daa9fb27b3c8f8e5f49574\n",
            "Successfully built pyspark\n",
            "Installing collected packages: pyspark\n",
            "Successfully installed pyspark-3.5.2\n"
          ]
        }
      ]
    },
    {
      "cell_type": "code",
      "execution_count": null,
      "metadata": {
        "id": "wmL_VkXKbcOQ",
        "colab": {
          "base_uri": "https://localhost:8080/"
        },
        "outputId": "89ae0ca8-9e75-4091-eb3a-470f4f290587"
      },
      "outputs": [
        {
          "output_type": "stream",
          "name": "stdout",
          "text": [
            "Mounted at /content/drive\n"
          ]
        }
      ],
      "source": [
        "from pyspark.sql import SparkSession\n",
        "from google.colab import drive\n",
        "drive.mount('/content/drive')\n",
        "import requests\n",
        "import io\n",
        "import pandas as pd\n",
        "import pyspark.sql.functions as F"
      ]
    },
    {
      "cell_type": "code",
      "source": [
        "url = \"https://dados.educacao.sp.gov.br/sites/default/files/Profici%C3%AAncia%20do%20SARESP%20por%20escola%20de%202023.csv\"\n",
        "#https://dados.educacao.sp.gov.br/sites/default/files/IDESP_ESCOLA_2023_0.csv"
      ],
      "metadata": {
        "id": "LzwMNjDhbite"
      },
      "execution_count": null,
      "outputs": []
    },
    {
      "cell_type": "code",
      "source": [
        "data = requests.get(url, verify=False).content\n",
        "data"
      ],
      "metadata": {
        "colab": {
          "base_uri": "https://localhost:8080/"
        },
        "id": "QznOhtWbbk52",
        "outputId": "2d712db7-b0d8-4143-d0a8-349e97829c86"
      },
      "execution_count": null,
      "outputs": [
        {
          "output_type": "stream",
          "name": "stderr",
          "text": [
            "/usr/local/lib/python3.10/dist-packages/urllib3/connectionpool.py:1100: InsecureRequestWarning: Unverified HTTPS request is being made to host 'dados.educacao.sp.gov.br'. Adding certificate verification is strongly advised. See: https://urllib3.readthedocs.io/en/latest/advanced-usage.html#tls-warnings\n",
            "  warnings.warn(\n"
          ]
        },
        {
          "output_type": "execute_result",
          "data": {
            "text/plain": [
              "b'\\xef\\xbb\\xbfDEPADM;DEPBOL;NOMEDEPBOL;CODRMET;REGIAOMETROPOLITANA;SERIE_ANO;COD_PER;PERIODO;CO_COMP;DS_COMP;MEDPROF\\r\\n1;1;Rede Estadual;1;Regi\\xc3\\xa3o Metropolitana de S\\xc3\\xa3o Paulo;2\\xc2\\xba Ano EF;1;MANH\\xc3\\x83;1;L\\xc3\\x8dNGUA PORTUGUESA;175,8\\r\\n1;1;Rede Estadual;1;Regi\\xc3\\xa3o Metropolitana de S\\xc3\\xa3o Paulo;2\\xc2\\xba Ano EF;1;MANH\\xc3\\x83;2;MATEM\\xc3\\x81TICA;167,7\\r\\n1;1;Rede Estadual;1;Regi\\xc3\\xa3o Metropolitana de S\\xc3\\xa3o Paulo;2\\xc2\\xba Ano EF;2;TARDE;1;L\\xc3\\x8dNGUA PORTUGUESA;171,1\\r\\n1;1;Rede Estadual;1;Regi\\xc3\\xa3o Metropolitana de S\\xc3\\xa3o Paulo;2\\xc2\\xba Ano EF;2;TARDE;2;MATEM\\xc3\\x81TICA;163,3\\r\\n1;1;Rede Estadual;1;Regi\\xc3\\xa3o Metropolitana de S\\xc3\\xa3o Paulo;2\\xc2\\xba Ano EF;9;GERAL;1;L\\xc3\\x8dNGUA PORTUGUESA;172,7\\r\\n1;1;Rede Estadual;1;Regi\\xc3\\xa3o Metropolitana de S\\xc3\\xa3o Paulo;2\\xc2\\xba Ano EF;9;GERAL;2;MATEM\\xc3\\x81TICA;164,8\\r\\n1;1;Rede Estadual;1;Regi\\xc3\\xa3o Metropolitana de S\\xc3\\xa3o Paulo;5\\xc2\\xba Ano EF;1;MANH\\xc3\\x83;1;L\\xc3\\x8dNGUA PORTUGUESA;200,2\\r\\n1;1;Rede Estadual;1;Regi\\xc3\\xa3o Metropolitana de S\\xc3\\xa3o Paulo;5\\xc2\\xba Ano EF;1;MANH\\xc3\\x83;2;MATEM\\xc3\\x81TICA;214,1\\r\\n1;1;Rede Estadual;1;Regi\\xc3\\xa3o Metropolitana de S\\xc3\\xa3o Paulo;5\\xc2\\xba Ano EF;2;TARDE;1;L\\xc3\\x8dNGUA PORTUGUESA;197,2\\r\\n1;1;Rede Estadual;1;Regi\\xc3\\xa3o Metropolitana de S\\xc3\\xa3o Paulo;5\\xc2\\xba Ano EF;2;TARDE;2;MATEM\\xc3\\x81TICA;210,4\\r\\n1;1;Rede Estadual;1;Regi\\xc3\\xa3o Metropolitana de S\\xc3\\xa3o Paulo;5\\xc2\\xba Ano EF;9;GERAL;1;L\\xc3\\x8dNGUA PORTUGUESA;199,2\\r\\n1;1;Rede Estadual;1;Regi\\xc3\\xa3o Metropolitana de S\\xc3\\xa3o Paulo;5\\xc2\\xba Ano EF;9;GERAL;2;MATEM\\xc3\\x81TICA;212,9\\r\\n1;1;Rede Estadual;1;Regi\\xc3\\xa3o Metropolitana de S\\xc3\\xa3o Paulo;9\\xc2\\xba Ano EF;1;MANH\\xc3\\x83;1;L\\xc3\\x8dNGUA PORTUGUESA;232,2\\r\\n1;1;Rede Estadual;1;Regi\\xc3\\xa3o Metropolitana de S\\xc3\\xa3o Paulo;9\\xc2\\xba Ano EF;1;MANH\\xc3\\x83;2;MATEM\\xc3\\x81TICA;243,4\\r\\n1;1;Rede Estadual;1;Regi\\xc3\\xa3o Metropolitana de S\\xc3\\xa3o Paulo;9\\xc2\\xba Ano EF;2;TARDE;1;L\\xc3\\x8dNGUA PORTUGUESA;231\\r\\n1;1;Rede Estadual;1;Regi\\xc3\\xa3o Metropolitana de S\\xc3\\xa3o Paulo;9\\xc2\\xba Ano EF;2;TARDE;2;MATEM\\xc3\\x81TICA;240,2\\r\\n1;1;Rede Estadual;1;Regi\\xc3\\xa3o Metropolitana de S\\xc3\\xa3o Paulo;9\\xc2\\xba Ano EF;9;GERAL;1;L\\xc3\\x8dNGUA PORTUGUESA;231,9\\r\\n1;1;Rede Estadual;1;Regi\\xc3\\xa3o Metropolitana de S\\xc3\\xa3o Paulo;9\\xc2\\xba Ano EF;9;GERAL;2;MATEM\\xc3\\x81TICA;242,7\\r\\n1;1;Rede Estadual;2;Regi\\xc3\\xa3o Metropolitana da Baixada Santista;2\\xc2\\xba Ano EF;1;MANH\\xc3\\x83;1;L\\xc3\\x8dNGUA PORTUGUESA;164\\r\\n1;1;Rede Estadual;2;Regi\\xc3\\xa3o Metropolitana da Baixada Santista;2\\xc2\\xba Ano EF;1;MANH\\xc3\\x83;2;MATEM\\xc3\\x81TICA;157,7\\r\\n1;1;Rede Estadual;2;Regi\\xc3\\xa3o Metropolitana da Baixada Santista;2\\xc2\\xba Ano EF;2;TARDE;1;L\\xc3\\x8dNGUA PORTUGUESA;161,9\\r\\n1;1;Rede Estadual;2;Regi\\xc3\\xa3o Metropolitana da Baixada Santista;2\\xc2\\xba Ano EF;2;TARDE;2;MATEM\\xc3\\x81TICA;154,1\\r\\n1;1;Rede Estadual;2;Regi\\xc3\\xa3o Metropolitana da Baixada Santista;2\\xc2\\xba Ano EF;9;GERAL;1;L\\xc3\\x8dNGUA PORTUGUESA;162,1\\r\\n1;1;Rede Estadual;2;Regi\\xc3\\xa3o Metropolitana da Baixada Santista;2\\xc2\\xba Ano EF;9;GERAL;2;MATEM\\xc3\\x81TICA;154,6\\r\\n1;1;Rede Estadual;2;Regi\\xc3\\xa3o Metropolitana da Baixada Santista;5\\xc2\\xba Ano EF;1;MANH\\xc3\\x83;1;L\\xc3\\x8dNGUA PORTUGUESA;184,4\\r\\n1;1;Rede Estadual;2;Regi\\xc3\\xa3o Metropolitana da Baixada Santista;5\\xc2\\xba Ano EF;1;MANH\\xc3\\x83;2;MATEM\\xc3\\x81TICA;196,9\\r\\n1;1;Rede Estadual;2;Regi\\xc3\\xa3o Metropolitana da Baixada Santista;5\\xc2\\xba Ano EF;2;TARDE;1;L\\xc3\\x8dNGUA PORTUGUESA;202,7\\r\\n1;1;Rede Estadual;2;Regi\\xc3\\xa3o Metropolitana da Baixada Santista;5\\xc2\\xba Ano EF;2;TARDE;2;MATEM\\xc3\\x81TICA;214,1\\r\\n1;1;Rede Estadual;2;Regi\\xc3\\xa3o Metropolitana da Baixada Santista;5\\xc2\\xba Ano EF;9;GERAL;1;L\\xc3\\x8dNGUA PORTUGUESA;189,1\\r\\n1;1;Rede Estadual;2;Regi\\xc3\\xa3o Metropolitana da Baixada Santista;5\\xc2\\xba Ano EF;9;GERAL;2;MATEM\\xc3\\x81TICA;201,4\\r\\n1;1;Rede Estadual;2;Regi\\xc3\\xa3o Metropolitana da Baixada Santista;9\\xc2\\xba Ano EF;1;MANH\\xc3\\x83;1;L\\xc3\\x8dNGUA PORTUGUESA;232,1\\r\\n1;1;Rede Estadual;2;Regi\\xc3\\xa3o Metropolitana da Baixada Santista;9\\xc2\\xba Ano EF;1;MANH\\xc3\\x83;2;MATEM\\xc3\\x81TICA;244,4\\r\\n1;1;Rede Estadual;2;Regi\\xc3\\xa3o Metropolitana da Baixada Santista;9\\xc2\\xba Ano EF;2;TARDE;1;L\\xc3\\x8dNGUA PORTUGUESA;231,4\\r\\n1;1;Rede Estadual;2;Regi\\xc3\\xa3o Metropolitana da Baixada Santista;9\\xc2\\xba Ano EF;2;TARDE;2;MATEM\\xc3\\x81TICA;239,1\\r\\n1;1;Rede Estadual;2;Regi\\xc3\\xa3o Metropolitana da Baixada Santista;9\\xc2\\xba Ano EF;9;GERAL;1;L\\xc3\\x8dNGUA PORTUGUESA;231,9\\r\\n1;1;Rede Estadual;2;Regi\\xc3\\xa3o Metropolitana da Baixada Santista;9\\xc2\\xba Ano EF;9;GERAL;2;MATEM\\xc3\\x81TICA;242,9\\r\\n1;1;Rede Estadual;3;Regi\\xc3\\xa3o Metropolitana de Campinas;2\\xc2\\xba Ano EF;1;MANH\\xc3\\x83;1;L\\xc3\\x8dNGUA PORTUGUESA;182,9\\r\\n1;1;Rede Estadual;3;Regi\\xc3\\xa3o Metropolitana de Campinas;2\\xc2\\xba Ano EF;1;MANH\\xc3\\x83;2;MATEM\\xc3\\x81TICA;176,7\\r\\n1;1;Rede Estadual;3;Regi\\xc3\\xa3o Metropolitana de Campinas;2\\xc2\\xba Ano EF;2;TARDE;1;L\\xc3\\x8dNGUA PORTUGUESA;180,6\\r\\n1;1;Rede Estadual;3;Regi\\xc3\\xa3o Metropolitana de Campinas;2\\xc2\\xba Ano EF;2;TARDE;2;MATEM\\xc3\\x81TICA;173,4\\r\\n1;1;Rede Estadual;3;Regi\\xc3\\xa3o Metropolitana de Campinas;2\\xc2\\xba Ano EF;9;GERAL;1;L\\xc3\\x8dNGUA PORTUGUESA;181,6\\r\\n1;1;Rede Estadual;3;Regi\\xc3\\xa3o Metropolitana de Campinas;2\\xc2\\xba Ano EF;9;GERAL;2;MATEM\\xc3\\x81TICA;174,8\\r\\n1;1;Rede Estadual;3;Regi\\xc3\\xa3o Metropolitana de Campinas;5\\xc2\\xba Ano EF;1;MANH\\xc3\\x83;1;L\\xc3\\x8dNGUA PORTUGUESA;204,1\\r\\n1;1;Rede Estadual;3;Regi\\xc3\\xa3o Metropolitana de Campinas;5\\xc2\\xba Ano EF;1;MANH\\xc3\\x83;2;MATEM\\xc3\\x81TICA;219\\r\\n1;1;Rede Estadual;3;Regi\\xc3\\xa3o Metropolitana de Campinas;5\\xc2\\xba Ano EF;2;TARDE;1;L\\xc3\\x8dNGUA PORTUGUESA;198\\r\\n1;1;Rede Estadual;3;Regi\\xc3\\xa3o Metropolitana de Campinas;5\\xc2\\xba Ano EF;2;TARDE;2;MATEM\\xc3\\x81TICA;213,4\\r\\n1;1;Rede Estadual;3;Regi\\xc3\\xa3o Metropolitana de Campinas;5\\xc2\\xba Ano EF;9;GERAL;1;L\\xc3\\x8dNGUA PORTUGUESA;202\\r\\n1;1;Rede Estadual;3;Regi\\xc3\\xa3o Metropolitana de Campinas;5\\xc2\\xba Ano EF;9;GERAL;2;MATEM\\xc3\\x81TICA;217,1\\r\\n1;1;Rede Estadual;3;Regi\\xc3\\xa3o Metropolitana de Campinas;9\\xc2\\xba Ano EF;1;MANH\\xc3\\x83;1;L\\xc3\\x8dNGUA PORTUGUESA;238,1\\r\\n1;1;Rede Estadual;3;Regi\\xc3\\xa3o Metropolitana de Campinas;9\\xc2\\xba Ano EF;1;MANH\\xc3\\x83;2;MATEM\\xc3\\x81TICA;249,6\\r\\n1;1;Rede Estadual;3;Regi\\xc3\\xa3o Metropolitana de Campinas;9\\xc2\\xba Ano EF;2;TARDE;1;L\\xc3\\x8dNGUA PORTUGUESA;234,7\\r\\n1;1;Rede Estadual;3;Regi\\xc3\\xa3o Metropolitana de Campinas;9\\xc2\\xba Ano EF;2;TARDE;2;MATEM\\xc3\\x81TICA;245,8\\r\\n1;1;Rede Estadual;3;Regi\\xc3\\xa3o Metropolitana de Campinas;9\\xc2\\xba Ano EF;3;NOITE;1;L\\xc3\\x8dNGUA PORTUGUESA;207,6\\r\\n1;1;Rede Estadual;3;Regi\\xc3\\xa3o Metropolitana de Campinas;9\\xc2\\xba Ano EF;3;NOITE;2;MATEM\\xc3\\x81TICA;227,5\\r\\n1;1;Rede Estadual;3;Regi\\xc3\\xa3o Metropolitana de Campinas;9\\xc2\\xba Ano EF;9;GERAL;1;L\\xc3\\x8dNGUA PORTUGUESA;237\\r\\n1;1;Rede Estadual;3;Regi\\xc3\\xa3o Metropolitana de Campinas;9\\xc2\\xba Ano EF;9;GERAL;2;MATEM\\xc3\\x81TICA;248,6\\r\\n1;1;Rede Estadual;4;Regi\\xc3\\xa3o Metropolitana do Vale do Para\\xc3\\xadba e Litoral Norte;2\\xc2\\xba Ano EF;1;MANH\\xc3\\x83;1;L\\xc3\\x8dNGUA PORTUGUESA;166,2\\r\\n1;1;Rede Estadual;4;Regi\\xc3\\xa3o Metropolitana do Vale do Para\\xc3\\xadba e Litoral Norte;2\\xc2\\xba Ano EF;1;MANH\\xc3\\x83;2;MATEM\\xc3\\x81TICA;156,6\\r\\n1;1;Rede Estadual;4;Regi\\xc3\\xa3o Metropolitana do Vale do Para\\xc3\\xadba e Litoral Norte;2\\xc2\\xba Ano EF;2;TARDE;1;L\\xc3\\x8dNGUA PORTUGUESA;177,6\\r\\n1;1;Rede Estadual;4;Regi\\xc3\\xa3o Metropolitana do Vale do Para\\xc3\\xadba e Litoral Norte;2\\xc2\\xba Ano EF;2;TARDE;2;MATEM\\xc3\\x81TICA;168,8\\r\\n1;1;Rede Estadual;4;Regi\\xc3\\xa3o Metropolitana do Vale do Para\\xc3\\xadba e Litoral Norte;2\\xc2\\xba Ano EF;9;GERAL;1;L\\xc3\\x8dNGUA PORTUGUESA;176,6\\r\\n1;1;Rede Estadual;4;Regi\\xc3\\xa3o Metropolitana do Vale do Para\\xc3\\xadba e Litoral Norte;2\\xc2\\xba Ano EF;9;GERAL;2;MATEM\\xc3\\x81TICA;167,7\\r\\n1;1;Rede Estadual;4;Regi\\xc3\\xa3o Metropolitana do Vale do Para\\xc3\\xadba e Litoral Norte;5\\xc2\\xba Ano EF;1;MANH\\xc3\\x83;1;L\\xc3\\x8dNGUA PORTUGUESA;213,1\\r\\n1;1;Rede Estadual;4;Regi\\xc3\\xa3o Metropolitana do Vale do Para\\xc3\\xadba e Litoral Norte;5\\xc2\\xba Ano EF;1;MANH\\xc3\\x83;2;MATEM\\xc3\\x81TICA;233,9\\r\\n1;1;Rede Estadual;4;Regi\\xc3\\xa3o Metropolitana do Vale do Para\\xc3\\xadba e Litoral Norte;5\\xc2\\xba Ano EF;2;TARDE;1;L\\xc3\\x8dNGUA PORTUGUESA;206,7\\r\\n1;1;Rede Estadual;4;Regi\\xc3\\xa3o Metropolitana do Vale do Para\\xc3\\xadba e Litoral Norte;5\\xc2\\xba Ano EF;2;TARDE;2;MATEM\\xc3\\x81TICA;222,1\\r\\n1;1;Rede Estadual;4;Regi\\xc3\\xa3o Metropolitana do Vale do Para\\xc3\\xadba e Litoral Norte;5\\xc2\\xba Ano EF;9;GERAL;1;L\\xc3\\x8dNGUA PORTUGUESA;207,8\\r\\n1;1;Rede Estadual;4;Regi\\xc3\\xa3o Metropolitana do Vale do Para\\xc3\\xadba e Litoral Norte;5\\xc2\\xba Ano EF;9;GERAL;2;MATEM\\xc3\\x81TICA;224,1\\r\\n1;1;Rede Estadual;4;Regi\\xc3\\xa3o Metropolitana do Vale do Para\\xc3\\xadba e Litoral Norte;9\\xc2\\xba Ano EF;1;MANH\\xc3\\x83;1;L\\xc3\\x8dNGUA PORTUGUESA;237,6\\r\\n1;1;Rede Estadual;4;Regi\\xc3\\xa3o Metropolitana do Vale do Para\\xc3\\xadba e Litoral Norte;9\\xc2\\xba Ano EF;1;MANH\\xc3\\x83;2;MATEM\\xc3\\x81TICA;249,9\\r\\n1;1;Rede Estadual;4;Regi\\xc3\\xa3o Metropolitana do Vale do Para\\xc3\\xadba e Litoral Norte;9\\xc2\\xba Ano EF;2;TARDE;1;L\\xc3\\x8dNGUA PORTUGUESA;234,6\\r\\n1;1;Rede Estadual;4;Regi\\xc3\\xa3o Metropolitana do Vale do Para\\xc3\\xadba e Litoral Norte;9\\xc2\\xba Ano EF;2;TARDE;2;MATEM\\xc3\\x81TICA;246,5\\r\\n1;1;Rede Estadual;4;Regi\\xc3\\xa3o Metropolitana do Vale do Para\\xc3\\xadba e Litoral Norte;9\\xc2\\xba Ano EF;9;GERAL;1;L\\xc3\\x8dNGUA PORTUGUESA;237,1\\r\\n1;1;Rede Estadual;4;Regi\\xc3\\xa3o Metropolitana do Vale do Para\\xc3\\xadba e Litoral Norte;9\\xc2\\xba Ano EF;9;GERAL;2;MATEM\\xc3\\x81TICA;249,3\\r\\n1;1;Rede Estadual;5;Interior;2\\xc2\\xba Ano EF;1;MANH\\xc3\\x83;1;L\\xc3\\x8dNGUA PORTUGUESA;188,8\\r\\n1;1;Rede Estadual;5;Interior;2\\xc2\\xba Ano EF;1;MANH\\xc3\\x83;2;MATEM\\xc3\\x81TICA;184,2\\r\\n1;1;Rede Estadual;5;Interior;2\\xc2\\xba Ano EF;2;TARDE;1;L\\xc3\\x8dNGUA PORTUGUESA;181,8\\r\\n1;1;Rede Estadual;5;Interior;2\\xc2\\xba Ano EF;2;TARDE;2;MATEM\\xc3\\x81TICA;174,9\\r\\n1;1;Rede Estadual;5;Interior;2\\xc2\\xba Ano EF;9;GERAL;1;L\\xc3\\x8dNGUA PORTUGUESA;185,6\\r\\n1;1;Rede Estadual;5;Interior;2\\xc2\\xba Ano EF;9;GERAL;2;MATEM\\xc3\\x81TICA;179,9\\r\\n1;1;Rede Estadual;5;Interior;5\\xc2\\xba Ano EF;1;MANH\\xc3\\x83;1;L\\xc3\\x8dNGUA PORTUGUESA;210,8\\r\\n1;1;Rede Estadual;5;Interior;5\\xc2\\xba Ano EF;1;MANH\\xc3\\x83;2;MATEM\\xc3\\x81TICA;230,8\\r\\n1;1;Rede Estadual;5;Interior;5\\xc2\\xba Ano EF;2;TARDE;1;L\\xc3\\x8dNGUA PORTUGUESA;208\\r\\n1;1;Rede Estadual;5;Interior;5\\xc2\\xba Ano EF;2;TARDE;2;MATEM\\xc3\\x81TICA;226,1\\r\\n1;1;Rede Estadual;5;Interior;5\\xc2\\xba Ano EF;9;GERAL;1;L\\xc3\\x8dNGUA PORTUGUESA;210\\r\\n1;1;Rede Estadual;5;Interior;5\\xc2\\xba Ano EF;9;GERAL;2;MATEM\\xc3\\x81TICA;229,4\\r\\n1;1;Rede Estadual;5;Interior;9\\xc2\\xba Ano EF;1;MANH\\xc3\\x83;1;L\\xc3\\x8dNGUA PORTUGUESA;237,9\\r\\n1;1;Rede Estadual;5;Interior;9\\xc2\\xba Ano EF;1;MANH\\xc3\\x83;2;MATEM\\xc3\\x81TICA;251,7\\r\\n1;1;Rede Estadual;5;Interior;9\\xc2\\xba Ano EF;2;TARDE;1;L\\xc3\\x8dNGUA PORTUGUESA;232,6\\r\\n1;1;Rede Estadual;5;Interior;9\\xc2\\xba Ano EF;2;TARDE;2;MATEM\\xc3\\x81TICA;244,9\\r\\n1;1;Rede Estadual;5;Interior;9\\xc2\\xba Ano EF;9;GERAL;1;L\\xc3\\x8dNGUA PORTUGUESA;237,3\\r\\n1;1;Rede Estadual;5;Interior;9\\xc2\\xba Ano EF;9;GERAL;2;MATEM\\xc3\\x81TICA;250,8\\r\\n1;1;Rede Estadual;6;Regi\\xc3\\xa3o Metropolitana de Ribeir\\xc3\\xa3o Preto;2\\xc2\\xba Ano EF;1;MANH\\xc3\\x83;1;L\\xc3\\x8dNGUA PORTUGUESA;172\\r\\n1;1;Rede Estadual;6;Regi\\xc3\\xa3o Metropolitana de Ribeir\\xc3\\xa3o Preto;2\\xc2\\xba Ano EF;1;MANH\\xc3\\x83;2;MATEM\\xc3\\x81TICA;164,1\\r\\n1;1;Rede Estadual;6;Regi\\xc3\\xa3o Metropolitana de Ribeir\\xc3\\xa3o Preto;2\\xc2\\xba Ano EF;2;TARDE;1;L\\xc3\\x8dNGUA PORTUGUESA;169,4\\r\\n1;1;Rede Estadual;6;Regi\\xc3\\xa3o Metropolitana de Ribeir\\xc3\\xa3o Preto;2\\xc2\\xba Ano EF;2;TARDE;2;MATEM\\xc3\\x81TICA;162,3\\r\\n1;1;Rede Estadual;6;Regi\\xc3\\xa3o Metropolitana de Ribeir\\xc3\\xa3o Preto;2\\xc2\\xba Ano EF;9;GERAL;1;L\\xc3\\x8dNGUA PORTUGUESA;170,5\\r\\n1;1;Rede Estadual;6;Regi\\xc3\\xa3o Metropolitana de Ribeir\\xc3\\xa3o Preto;2\\xc2\\xba Ano EF;9;GERAL;2;MATEM\\xc3\\x81TICA;163\\r\\n1;1;Rede Estadual;6;Regi\\xc3\\xa3o Metropolitana de Ribeir\\xc3\\xa3o Preto;5\\xc2\\xba Ano EF;1;MANH\\xc3\\x83;1;L\\xc3\\x8dNGUA PORTUGUESA;203,1\\r\\n1;1;Rede Estadual;6;Regi\\xc3\\xa3o Metropolitana de Ribeir\\xc3\\xa3o Preto;5\\xc2\\xba Ano EF;1;MANH\\xc3\\x83;2;MATEM\\xc3\\x81TICA;219,9\\r\\n1;1;Rede Estadual;6;Regi\\xc3\\xa3o Metropolitana de Ribeir\\xc3\\xa3o Preto;5\\xc2\\xba Ano EF;2;TARDE;1;L\\xc3\\x8dNGUA PORTUGUESA;191,3\\r\\n1;1;Rede Estadual;6;Regi\\xc3\\xa3o Metropolitana de Ribeir\\xc3\\xa3o Preto;5\\xc2\\xba Ano EF;2;TARDE;2;MATEM\\xc3\\x81TICA;206,9\\r\\n1;1;Rede Estadual;6;Regi\\xc3\\xa3o Metropolitana de Ribeir\\xc3\\xa3o Preto;5\\xc2\\xba Ano EF;9;GERAL;1;L\\xc3\\x8dNGUA PORTUGUESA;198,3\\r\\n1;1;Rede Estadual;6;Regi\\xc3\\xa3o Metropolitana de Ribeir\\xc3\\xa3o Preto;5\\xc2\\xba Ano EF;9;GERAL;2;MATEM\\xc3\\x81TICA;214,6\\r\\n1;1;Rede Estadual;6;Regi\\xc3\\xa3o Metropolitana de Ribeir\\xc3\\xa3o Preto;9\\xc2\\xba Ano EF;1;MANH\\xc3\\x83;1;L\\xc3\\x8dNGUA PORTUGUESA;229,8\\r\\n1;1;Rede Estadual;6;Regi\\xc3\\xa3o Metropolitana de Ribeir\\xc3\\xa3o Preto;9\\xc2\\xba Ano EF;1;MANH\\xc3\\x83;2;MATEM\\xc3\\x81TICA;244,4\\r\\n1;1;Rede Estadual;6;Regi\\xc3\\xa3o Metropolitana de Ribeir\\xc3\\xa3o Preto;9\\xc2\\xba Ano EF;2;TARDE;1;L\\xc3\\x8dNGUA PORTUGUESA;228,4\\r\\n1;1;Rede Estadual;6;Regi\\xc3\\xa3o Metropolitana de Ribeir\\xc3\\xa3o Preto;9\\xc2\\xba Ano EF;2;TARDE;2;MATEM\\xc3\\x81TICA;243,1\\r\\n1;1;Rede Estadual;6;Regi\\xc3\\xa3o Metropolitana de Ribeir\\xc3\\xa3o Preto;9\\xc2\\xba Ano EF;9;GERAL;1;L\\xc3\\x8dNGUA PORTUGUESA;229,5\\r\\n1;1;Rede Estadual;6;Regi\\xc3\\xa3o Metropolitana de Ribeir\\xc3\\xa3o Preto;9\\xc2\\xba Ano EF;9;GERAL;2;MATEM\\xc3\\x81TICA;244,1\\r\\n1;1;Rede Estadual;7;Regi\\xc3\\xa3o Metropolitana de Sorocaba;2\\xc2\\xba Ano EF;1;MANH\\xc3\\x83;1;L\\xc3\\x8dNGUA PORTUGUESA;185,3\\r\\n1;1;Rede Estadual;7;Regi\\xc3\\xa3o Metropolitana de Sorocaba;2\\xc2\\xba Ano EF;1;MANH\\xc3\\x83;2;MATEM\\xc3\\x81TICA;178,6\\r\\n1;1;Rede Estadual;7;Regi\\xc3\\xa3o Metropolitana de Sorocaba;2\\xc2\\xba Ano EF;2;TARDE;1;L\\xc3\\x8dNGUA PORTUGUESA;173,4\\r\\n1;1;Rede Estadual;7;Regi\\xc3\\xa3o Metropolitana de Sorocaba;2\\xc2\\xba Ano EF;2;TARDE;2;MATEM\\xc3\\x81TICA;165,1\\r\\n1;1;Rede Estadual;7;Regi\\xc3\\xa3o Metropolitana de Sorocaba;2\\xc2\\xba Ano EF;9;GERAL;1;L\\xc3\\x8dNGUA PORTUGUESA;175,9\\r\\n1;1;Rede Estadual;7;Regi\\xc3\\xa3o Metropolitana de Sorocaba;2\\xc2\\xba Ano EF;9;GERAL;2;MATEM\\xc3\\x81TICA;167,9\\r\\n1;1;Rede Estadual;7;Regi\\xc3\\xa3o Metropolitana de Sorocaba;5\\xc2\\xba Ano EF;1;MANH\\xc3\\x83;1;L\\xc3\\x8dNGUA PORTUGUESA;210,4\\r\\n1;1;Rede Estadual;7;Regi\\xc3\\xa3o Metropolitana de Sorocaba;5\\xc2\\xba Ano EF;1;MANH\\xc3\\x83;2;MATEM\\xc3\\x81TICA;225,7\\r\\n1;1;Rede Estadual;7;Regi\\xc3\\xa3o Metropolitana de Sorocaba;5\\xc2\\xba Ano EF;2;TARDE;1;L\\xc3\\x8dNGUA PORTUGUESA;198,2\\r\\n1;1;Rede Estadual;7;Regi\\xc3\\xa3o Metropolitana de Sorocaba;5\\xc2\\xba Ano EF;2;TARDE;2;MATEM\\xc3\\x81TICA;212\\r\\n1;1;Rede Estadual;7;Regi\\xc3\\xa3o Metropolitana de Sorocaba;5\\xc2\\xba Ano EF;9;GERAL;1;L\\xc3\\x8dNGUA PORTUGUESA;208,2\\r\\n1;1;Rede Estadual;7;Regi\\xc3\\xa3o Metropolitana de Sorocaba;5\\xc2\\xba Ano EF;9;GERAL;2;MATEM\\xc3\\x81TICA;223,3\\r\\n1;1;Rede Estadual;7;Regi\\xc3\\xa3o Metropolitana de Sorocaba;9\\xc2\\xba Ano EF;1;MANH\\xc3\\x83;1;L\\xc3\\x8dNGUA PORTUGUESA;240,6\\r\\n1;1;Rede Estadual;7;Regi\\xc3\\xa3o Metropolitana de Sorocaba;9\\xc2\\xba Ano EF;1;MANH\\xc3\\x83;2;MATEM\\xc3\\x81TICA;251,5\\r\\n1;1;Rede Estadual;7;Regi\\xc3\\xa3o Metropolitana de Sorocaba;9\\xc2\\xba Ano EF;2;TARDE;1;L\\xc3\\x8dNGUA PORTUGUESA;236\\r\\n1;1;Rede Estadual;7;Regi\\xc3\\xa3o Metropolitana de Sorocaba;9\\xc2\\xba Ano EF;2;TARDE;2;MATEM\\xc3\\x81TICA;244,5\\r\\n1;1;Rede Estadual;7;Regi\\xc3\\xa3o Metropolitana de Sorocaba;9\\xc2\\xba Ano EF;9;GERAL;1;L\\xc3\\x8dNGUA PORTUGUESA;240,3\\r\\n1;1;Rede Estadual;7;Regi\\xc3\\xa3o Metropolitana de Sorocaba;9\\xc2\\xba Ano EF;9;GERAL;2;MATEM\\xc3\\x81TICA;251,1\\r\\n1;1;Rede Estadual;9;ESTADO;2\\xc2\\xba Ano EF;1;MANH\\xc3\\x83;1;L\\xc3\\x8dNGUA PORTUGUESA;178,6\\r\\n1;1;Rede Estadual;9;ESTADO;2\\xc2\\xba Ano EF;1;MANH\\xc3\\x83;2;MATEM\\xc3\\x81TICA;171,3\\r\\n1;1;Rede Estadual;9;ESTADO;2\\xc2\\xba Ano EF;2;TARDE;1;L\\xc3\\x8dNGUA PORTUGUESA;172,6\\r\\n1;1;Rede Estadual;9;ESTADO;2\\xc2\\xba Ano EF;2;TARDE;2;MATEM\\xc3\\x81TICA;164,9\\r\\n1;1;Rede Estadual;9;ESTADO;2\\xc2\\xba Ano EF;9;GERAL;1;L\\xc3\\x8dNGUA PORTUGUESA;174,8\\r\\n1;1;Rede Estadual;9;ESTADO;2\\xc2\\xba Ano EF;9;GERAL;2;MATEM\\xc3\\x81TICA;167,2\\r\\n1;1;Rede Estadual;9;ESTADO;5\\xc2\\xba Ano EF;1;MANH\\xc3\\x83;1;L\\xc3\\x8dNGUA PORTUGUESA;201,9\\r\\n1;1;Rede Estadual;9;ESTADO;5\\xc2\\xba Ano EF;1;MANH\\xc3\\x83;2;MATEM\\xc3\\x81TICA;216,8\\r\\n1;1;Rede Estadual;9;ESTADO;5\\xc2\\xba Ano EF;2;TARDE;1;L\\xc3\\x8dNGUA PORTUGUESA;198,6\\r\\n1;1;Rede Estadual;9;ESTADO;5\\xc2\\xba Ano EF;2;TARDE;2;MATEM\\xc3\\x81TICA;212,6\\r\\n1;1;Rede Estadual;9;ESTADO;5\\xc2\\xba Ano EF;9;GERAL;1;L\\xc3\\x8dNGUA PORTUGUESA;200,8\\r\\n1;1;Rede Estadual;9;ESTADO;5\\xc2\\xba Ano EF;9;GERAL;2;MATEM\\xc3\\x81TICA;215,4\\r\\n1;1;Rede Estadual;9;ESTADO;9\\xc2\\xba Ano EF;1;MANH\\xc3\\x83;1;L\\xc3\\x8dNGUA PORTUGUESA;235,1\\r\\n1;1;Rede Estadual;9;ESTADO;9\\xc2\\xba Ano EF;1;MANH\\xc3\\x83;2;MATEM\\xc3\\x81TICA;247,3\\r\\n1;1;Rede Estadual;9;ESTADO;9\\xc2\\xba Ano EF;2;TARDE;1;L\\xc3\\x8dNGUA PORTUGUESA;231,7\\r\\n1;1;Rede Estadual;9;ESTADO;9\\xc2\\xba Ano EF;2;TARDE;2;MATEM\\xc3\\x81TICA;241,9\\r\\n1;1;Rede Estadual;9;ESTADO;9\\xc2\\xba Ano EF;3;NOITE;1;L\\xc3\\x8dNGUA PORTUGUESA;207,6\\r\\n1;1;Rede Estadual;9;ESTADO;9\\xc2\\xba Ano EF;3;NOITE;2;MATEM\\xc3\\x81TICA;227,5\\r\\n1;1;Rede Estadual;9;ESTADO;9\\xc2\\xba Ano EF;9;GERAL;1;L\\xc3\\x8dNGUA PORTUGUESA;234,4\\r\\n1;1;Rede Estadual;9;ESTADO;9\\xc2\\xba Ano EF;9;GERAL;2;MATEM\\xc3\\x81TICA;246,3\\r\\n2;2;Rede Municipal;1;Regi\\xc3\\xa3o Metropolitana de S\\xc3\\xa3o Paulo;2\\xc2\\xba Ano EF;1;MANH\\xc3\\x83;1;L\\xc3\\x8dNGUA PORTUGUESA;163,4\\r\\n2;2;Rede Municipal;1;Regi\\xc3\\xa3o Metropolitana de S\\xc3\\xa3o Paulo;2\\xc2\\xba Ano EF;1;MANH\\xc3\\x83;2;MATEM\\xc3\\x81TICA;157,3\\r\\n2;2;Rede Municipal;1;Regi\\xc3\\xa3o Metropolitana de S\\xc3\\xa3o Paulo;2\\xc2\\xba Ano EF;2;TARDE;1;L\\xc3\\x8dNGUA PORTUGUESA;162,9\\r\\n2;2;Rede Municipal;1;Regi\\xc3\\xa3o Metropolitana de S\\xc3\\xa3o Paulo;2\\xc2\\xba Ano EF;2;TARDE;2;MATEM\\xc3\\x81TICA;156,4\\r\\n2;2;Rede Municipal;1;Regi\\xc3\\xa3o Metropolitana de S\\xc3\\xa3o Paulo;2\\xc2\\xba Ano EF;9;GERAL;1;L\\xc3\\x8dNGUA PORTUGUESA;163,1\\r\\n2;2;Rede Municipal;1;Regi\\xc3\\xa3o Metropolitana de S\\xc3\\xa3o Paulo;2\\xc2\\xba Ano EF;9;GERAL;2;MATEM\\xc3\\x81TICA;156,7\\r\\n2;2;Rede Municipal;1;Regi\\xc3\\xa3o Metropolitana de S\\xc3\\xa3o Paulo;5\\xc2\\xba Ano EF;1;MANH\\xc3\\x83;1;L\\xc3\\x8dNGUA PORTUGUESA;194,5\\r\\n2;2;Rede Municipal;1;Regi\\xc3\\xa3o Metropolitana de S\\xc3\\xa3o Paulo;5\\xc2\\xba Ano EF;1;MANH\\xc3\\x83;2;MATEM\\xc3\\x81TICA;205,6\\r\\n2;2;Rede Municipal;1;Regi\\xc3\\xa3o Metropolitana de S\\xc3\\xa3o Paulo;5\\xc2\\xba Ano EF;2;TARDE;1;L\\xc3\\x8dNGUA PORTUGUESA;195,3\\r\\n2;2;Rede Municipal;1;Regi\\xc3\\xa3o Metropolitana de S\\xc3\\xa3o Paulo;5\\xc2\\xba Ano EF;2;TARDE;2;MATEM\\xc3\\x81TICA;206,5\\r\\n2;2;Rede Municipal;1;Regi\\xc3\\xa3o Metropolitana de S\\xc3\\xa3o Paulo;5\\xc2\\xba Ano EF;9;GERAL;1;L\\xc3\\x8dNGUA PORTUGUESA;194,8\\r\\n2;2;Rede Municipal;1;Regi\\xc3\\xa3o Metropolitana de S\\xc3\\xa3o Paulo;5\\xc2\\xba Ano EF;9;GERAL;2;MATEM\\xc3\\x81TICA;206\\r\\n2;2;Rede Municipal;1;Regi\\xc3\\xa3o Metropolitana de S\\xc3\\xa3o Paulo;9\\xc2\\xba Ano EF;1;MANH\\xc3\\x83;1;L\\xc3\\x8dNGUA PORTUGUESA;242,6\\r\\n2;2;Rede Municipal;1;Regi\\xc3\\xa3o Metropolitana de S\\xc3\\xa3o Paulo;9\\xc2\\xba Ano EF;1;MANH\\xc3\\x83;2;MATEM\\xc3\\x81TICA;249,3\\r\\n2;2;Rede Municipal;1;Regi\\xc3\\xa3o Metropolitana de S\\xc3\\xa3o Paulo;9\\xc2\\xba Ano EF;2;TARDE;1;L\\xc3\\x8dNGUA PORTUGUESA;238,5\\r\\n2;2;Rede Municipal;1;Regi\\xc3\\xa3o Metropolitana de S\\xc3\\xa3o Paulo;9\\xc2\\xba Ano EF;2;TARDE;2;MATEM\\xc3\\x81TICA;242,7\\r\\n2;2;Rede Municipal;1;Regi\\xc3\\xa3o Metropolitana de S\\xc3\\xa3o Paulo;9\\xc2\\xba Ano EF;9;GERAL;1;L\\xc3\\x8dNGUA PORTUGUESA;241,7\\r\\n2;2;Rede Municipal;1;Regi\\xc3\\xa3o Metropolitana de S\\xc3\\xa3o Paulo;9\\xc2\\xba Ano EF;9;GERAL;2;MATEM\\xc3\\x81TICA;247,9\\r\\n2;2;Rede Municipal;2;Regi\\xc3\\xa3o Metropolitana da Baixada Santista;2\\xc2\\xba Ano EF;1;MANH\\xc3\\x83;1;L\\xc3\\x8dNGUA PORTUGUESA;169\\r\\n2;2;Rede Municipal;2;Regi\\xc3\\xa3o Metropolitana da Baixada Santista;2\\xc2\\xba Ano EF;1;MANH\\xc3\\x83;2;MATEM\\xc3\\x81TICA;162,7\\r\\n2;2;Rede Municipal;2;Regi\\xc3\\xa3o Metropolitana da Baixada Santista;2\\xc2\\xba Ano EF;2;TARDE;1;L\\xc3\\x8dNGUA PORTUGUESA;169\\r\\n2;2;Rede Municipal;2;Regi\\xc3\\xa3o Metropolitana da Baixada Santista;2\\xc2\\xba Ano EF;2;TARDE;2;MATEM\\xc3\\x81TICA;161,1\\r\\n2;2;Rede Municipal;2;Regi\\xc3\\xa3o Metropolitana da Baixada Santista;2\\xc2\\xba Ano EF;9;GERAL;1;L\\xc3\\x8dNGUA PORTUGUESA;169\\r\\n2;2;Rede Municipal;2;Regi\\xc3\\xa3o Metropolitana da Baixada Santista;2\\xc2\\xba Ano EF;9;GERAL;2;MATEM\\xc3\\x81TICA;161,7\\r\\n2;2;Rede Municipal;2;Regi\\xc3\\xa3o Metropolitana da Baixada Santista;5\\xc2\\xba Ano EF;1;MANH\\xc3\\x83;1;L\\xc3\\x8dNGUA PORTUGUESA;194,6\\r\\n2;2;Rede Municipal;2;Regi\\xc3\\xa3o Metropolitana da Baixada Santista;5\\xc2\\xba Ano EF;1;MANH\\xc3\\x83;2;MATEM\\xc3\\x81TICA;205,1\\r\\n2;2;Rede Municipal;2;Regi\\xc3\\xa3o Metropolitana da Baixada Santista;5\\xc2\\xba Ano EF;2;TARDE;1;L\\xc3\\x8dNGUA PORTUGUESA;193,5\\r\\n2;2;Rede Municipal;2;Regi\\xc3\\xa3o Metropolitana da Baixada Santista;5\\xc2\\xba Ano EF;2;TARDE;2;MATEM\\xc3\\x81TICA;204,9\\r\\n2;2;Rede Municipal;2;Regi\\xc3\\xa3o Metropolitana da Baixada Santista;5\\xc2\\xba Ano EF;9;GERAL;1;L\\xc3\\x8dNGUA PORTUGUESA;194,4\\r\\n2;2;Rede Municipal;2;Regi\\xc3\\xa3o Metropolitana da Baixada Santista;5\\xc2\\xba Ano EF;9;GERAL;2;MATEM\\xc3\\x81TICA;205\\r\\n2;2;Rede Municipal;3;Regi\\xc3\\xa3o Metropolitana de Campinas;2\\xc2\\xba Ano EF;1;MANH\\xc3\\x83;1;L\\xc3\\x8dNGUA PORTUGUESA;174,2\\r\\n2;2;Rede Municipal;3;Regi\\xc3\\xa3o Metropolitana de Campinas;2\\xc2\\xba Ano EF;1;MANH\\xc3\\x83;2;MATEM\\xc3\\x81TICA;167,7\\r\\n2;2;Rede Municipal;3;Regi\\xc3\\xa3o Metropolitana de Campinas;2\\xc2\\xba Ano EF;2;TARDE;1;L\\xc3\\x8dNGUA PORTUGUESA;175,7\\r\\n2;2;Rede Municipal;3;Regi\\xc3\\xa3o Metropolitana de Campinas;2\\xc2\\xba Ano EF;2;TARDE;2;MATEM\\xc3\\x81TICA;169,2\\r\\n2;2;Rede Municipal;3;Regi\\xc3\\xa3o Metropolitana de Campinas;2\\xc2\\xba Ano EF;9;GERAL;1;L\\xc3\\x8dNGUA PORTUGUESA;175\\r\\n2;2;Rede Municipal;3;Regi\\xc3\\xa3o Metropolitana de Campinas;2\\xc2\\xba Ano EF;9;GERAL;2;MATEM\\xc3\\x81TICA;168,5\\r\\n2;2;Rede Municipal;3;Regi\\xc3\\xa3o Metropolitana de Campinas;5\\xc2\\xba Ano EF;1;MANH\\xc3\\x83;1;L\\xc3\\x8dNGUA PORTUGUESA;206,3\\r\\n2;2;Rede Municipal;3;Regi\\xc3\\xa3o Metropolitana de Campinas;5\\xc2\\xba Ano EF;1;MANH\\xc3\\x83;2;MATEM\\xc3\\x81TICA;220,7\\r\\n2;2;Rede Municipal;3;Regi\\xc3\\xa3o Metropolitana de Campinas;5\\xc2\\xba Ano EF;2;TARDE;1;L\\xc3\\x8dNGUA PORTUGUESA;209,8\\r\\n2;2;Rede Municipal;3;Regi\\xc3\\xa3o Metropolitana de Campinas;5\\xc2\\xba Ano EF;2;TARDE;2;MATEM\\xc3\\x81TICA;223\\r\\n2;2;Rede Municipal;3;Regi\\xc3\\xa3o Metropolitana de Campinas;5\\xc2\\xba Ano EF;9;GERAL;1;L\\xc3\\x8dNGUA PORTUGUESA;207,6\\r\\n2;2;Rede Municipal;3;Regi\\xc3\\xa3o Metropolitana de Campinas;5\\xc2\\xba Ano EF;9;GERAL;2;MATEM\\xc3\\x81TICA;221,6\\r\\n2;2;Rede Municipal;3;Regi\\xc3\\xa3o Metropolitana de Campinas;9\\xc2\\xba Ano EF;1;MANH\\xc3\\x83;1;L\\xc3\\x8dNGUA PORTUGUESA;0\\r\\n2;2;Rede Municipal;3;Regi\\xc3\\xa3o Metropolitana de Campinas;9\\xc2\\xba Ano EF;1;MANH\\xc3\\x83;2;MATEM\\xc3\\x81TICA;0\\r\\n2;2;Rede Municipal;3;Regi\\xc3\\xa3o Metropolitana de Campinas;9\\xc2\\xba Ano EF;2;TARDE;1;L\\xc3\\x8dNGUA PORTUGUESA;0\\r\\n2;2;Rede Municipal;3;Regi\\xc3\\xa3o Metropolitana de Campinas;9\\xc2\\xba Ano EF;2;TARDE;2;MATEM\\xc3\\x81TICA;0\\r\\n2;2;Rede Municipal;3;Regi\\xc3\\xa3o Metropolitana de Campinas;9\\xc2\\xba Ano EF;9;GERAL;1;L\\xc3\\x8dNGUA PORTUGUESA;0\\r\\n2;2;Rede Municipal;3;Regi\\xc3\\xa3o Metropolitana de Campinas;9\\xc2\\xba Ano EF;9;GERAL;2;MATEM\\xc3\\x81TICA;0\\r\\n2;2;Rede Municipal;4;Regi\\xc3\\xa3o Metropolitana do Vale do Para\\xc3\\xadba e Litoral Norte;2\\xc2\\xba Ano EF;1;MANH\\xc3\\x83;1;L\\xc3\\x8dNGUA PORTUGUESA;168\\r\\n2;2;Rede Municipal;4;Regi\\xc3\\xa3o Metropolitana do Vale do Para\\xc3\\xadba e Litoral Norte;2\\xc2\\xba Ano EF;1;MANH\\xc3\\x83;2;MATEM\\xc3\\x81TICA;161,4\\r\\n2;2;Rede Municipal;4;Regi\\xc3\\xa3o Metropolitana do Vale do Para\\xc3\\xadba e Litoral Norte;2\\xc2\\xba Ano EF;2;TARDE;1;L\\xc3\\x8dNGUA PORTUGUESA;170,6\\r\\n2;2;Rede Municipal;4;Regi\\xc3\\xa3o Metropolitana do Vale do Para\\xc3\\xadba e Litoral Norte;2\\xc2\\xba Ano EF;2;TARDE;2;MATEM\\xc3\\x81TICA;164,1\\r\\n2;2;Rede Municipal;4;Regi\\xc3\\xa3o Metropolitana do Vale do Para\\xc3\\xadba e Litoral Norte;2\\xc2\\xba Ano EF;9;GERAL;1;L\\xc3\\x8dNGUA PORTUGUESA;169,7\\r\\n2;2;Rede Municipal;4;Regi\\xc3\\xa3o Metropolitana do Vale do Para\\xc3\\xadba e Litoral Norte;2\\xc2\\xba Ano EF;9;GERAL;2;MATEM\\xc3\\x81TICA;163,2\\r\\n2;2;Rede Municipal;4;Regi\\xc3\\xa3o Metropolitana do Vale do Para\\xc3\\xadba e Litoral Norte;5\\xc2\\xba Ano EF;1;MANH\\xc3\\x83;1;L\\xc3\\x8dNGUA PORTUGUESA;199,2\\r\\n2;2;Rede Municipal;4;Regi\\xc3\\xa3o Metropolitana do Vale do Para\\xc3\\xadba e Litoral Norte;5\\xc2\\xba Ano EF;1;MANH\\xc3\\x83;2;MATEM\\xc3\\x81TICA;213,3\\r\\n2;2;Rede Municipal;4;Regi\\xc3\\xa3o Metropolitana do Vale do Para\\xc3\\xadba e Litoral Norte;5\\xc2\\xba Ano EF;2;TARDE;1;L\\xc3\\x8dNGUA PORTUGUESA;204,8\\r\\n2;2;Rede Municipal;4;Regi\\xc3\\xa3o Metropolitana do Vale do Para\\xc3\\xadba e Litoral Norte;5\\xc2\\xba Ano EF;2;TARDE;2;MATEM\\xc3\\x81TICA;221,1\\r\\n2;2;Rede Municipal;4;Regi\\xc3\\xa3o Metropolitana do Vale do Para\\xc3\\xadba e Litoral Norte;5\\xc2\\xba Ano EF;9;GERAL;1;L\\xc3\\x8dNGUA PORTUGUESA;201,6\\r\\n2;2;Rede Municipal;4;Regi\\xc3\\xa3o Metropolitana do Vale do Para\\xc3\\xadba e Litoral Norte;5\\xc2\\xba Ano EF;9;GERAL;2;MATEM\\xc3\\x81TICA;216,7\\r\\n2;2;Rede Municipal;4;Regi\\xc3\\xa3o Metropolitana do Vale do Para\\xc3\\xadba e Litoral Norte;9\\xc2\\xba Ano EF;1;MANH\\xc3\\x83;1;L\\xc3\\x8dNGUA PORTUGUESA;247,3\\r\\n2;2;Rede Municipal;4;Regi\\xc3\\xa3o Metropolitana do Vale do Para\\xc3\\xadba e Litoral Norte;9\\xc2\\xba Ano EF;1;MANH\\xc3\\x83;2;MATEM\\xc3\\x81TICA;260,3\\r\\n2;2;Rede Municipal;4;Regi\\xc3\\xa3o Metropolitana do Vale do Para\\xc3\\xadba e Litoral Norte;9\\xc2\\xba Ano EF;2;TARDE;1;L\\xc3\\x8dNGUA PORTUGUESA;232,3\\r\\n2;2;Rede Municipal;4;Regi\\xc3\\xa3o Metropolitana do Vale do Para\\xc3\\xadba e Litoral Norte;9\\xc2\\xba Ano EF;2;TARDE;2;MATEM\\xc3\\x81TICA;242,2\\r\\n2;2;Rede Municipal;4;Regi\\xc3\\xa3o Metropolitana do Vale do Para\\xc3\\xadba e Litoral Norte;9\\xc2\\xba Ano EF;9;GERAL;1;L\\xc3\\x8dNGUA PORTUGUESA;246\\r\\n2;2;Rede Municipal;4;Regi\\xc3\\xa3o Metropolitana do Vale do Para\\xc3\\xadba e Litoral Norte;9\\xc2\\xba Ano EF;9;GERAL;2;MATEM\\xc3\\x81TICA;258,7\\r\\n2;2;Rede Municipal;5;Interior;2\\xc2\\xba Ano EF;1;MANH\\xc3\\x83;1;L\\xc3\\x8dNGUA PORTUGUESA;180,7\\r\\n2;2;Rede Municipal;5;Interior;2\\xc2\\xba Ano EF;1;MANH\\xc3\\x83;2;MATEM\\xc3\\x81TICA;175,9\\r\\n2;2;Rede Municipal;5;Interior;2\\xc2\\xba Ano EF;2;TARDE;1;L\\xc3\\x8dNGUA PORTUGUESA;178,3\\r\\n2;2;Rede Municipal;5;Interior;2\\xc2\\xba Ano EF;2;TARDE;2;MATEM\\xc3\\x81TICA;172,7\\r\\n2;2;Rede Municipal;5;Interior;2\\xc2\\xba Ano EF;9;GERAL;1;L\\xc3\\x8dNGUA PORTUGUESA;179,5\\r\\n2;2;Rede Municipal;5;Interior;2\\xc2\\xba Ano EF;9;GERAL;2;MATEM\\xc3\\x81TICA;174,3\\r\\n2;2;Rede Municipal;5;Interior;5\\xc2\\xba Ano EF;1;MANH\\xc3\\x83;1;L\\xc3\\x8dNGUA PORTUGUESA;206\\r\\n2;2;Rede Municipal;5;Interior;5\\xc2\\xba Ano EF;1;MANH\\xc3\\x83;2;MATEM\\xc3\\x81TICA;223,2\\r\\n2;2;Rede Municipal;5;Interior;5\\xc2\\xba Ano EF;2;TARDE;1;L\\xc3\\x8dNGUA PORTUGUESA;202,8\\r\\n2;2;Rede Municipal;5;Interior;5\\xc2\\xba Ano EF;2;TARDE;2;MATEM\\xc3\\x81TICA;220,1\\r\\n2;2;Rede Municipal;5;Interior;5\\xc2\\xba Ano EF;9;GERAL;1;L\\xc3\\x8dNGUA PORTUGUESA;205\\r\\n2;2;Rede Municipal;5;Interior;5\\xc2\\xba Ano EF;9;GERAL;2;MATEM\\xc3\\x81TICA;222,2\\r\\n2;2;Rede Municipal;5;Interior;9\\xc2\\xba Ano EF;1;MANH\\xc3\\x83;1;L\\xc3\\x8dNGUA PORTUGUESA;240,1\\r\\n2;2;Rede Municipal;5;Interior;9\\xc2\\xba Ano EF;1;MANH\\xc3\\x83;2;MATEM\\xc3\\x81TICA;253,7\\r\\n2;2;Rede Municipal;5;Interior;9\\xc2\\xba Ano EF;2;TARDE;1;L\\xc3\\x8dNGUA PORTUGUESA;242,5\\r\\n2;2;Rede Municipal;5;Interior;9\\xc2\\xba Ano EF;2;TARDE;2;MATEM\\xc3\\x81TICA;261,6\\r\\n2;2;Rede Municipal;5;Interior;9\\xc2\\xba Ano EF;3;NOITE;1;L\\xc3\\x8dNGUA PORTUGUESA;0\\r\\n2;2;Rede Municipal;5;Interior;9\\xc2\\xba Ano EF;3;NOITE;2;MATEM\\xc3\\x81TICA;0\\r\\n2;2;Rede Municipal;5;Interior;9\\xc2\\xba Ano EF;9;GERAL;1;L\\xc3\\x8dNGUA PORTUGUESA;240,5\\r\\n2;2;Rede Municipal;5;Interior;9\\xc2\\xba Ano EF;9;GERAL;2;MATEM\\xc3\\x81TICA;255\\r\\n2;2;Rede Municipal;6;Regi\\xc3\\xa3o Metropolitana de Ribeir\\xc3\\xa3o Preto;2\\xc2\\xba Ano EF;1;MANH\\xc3\\x83;1;L\\xc3\\x8dNGUA PORTUGUESA;179,2\\r\\n2;2;Rede Municipal;6;Regi\\xc3\\xa3o Metropolitana de Ribeir\\xc3\\xa3o Preto;2\\xc2\\xba Ano EF;1;MANH\\xc3\\x83;2;MATEM\\xc3\\x81TICA;173,9\\r\\n2;2;Rede Municipal;6;Regi\\xc3\\xa3o Metropolitana de Ribeir\\xc3\\xa3o Preto;2\\xc2\\xba Ano EF;2;TARDE;1;L\\xc3\\x8dNGUA PORTUGUESA;169,8\\r\\n2;2;Rede Municipal;6;Regi\\xc3\\xa3o Metropolitana de Ribeir\\xc3\\xa3o Preto;2\\xc2\\xba Ano EF;2;TARDE;2;MATEM\\xc3\\x81TICA;166\\r\\n2;2;Rede Municipal;6;Regi\\xc3\\xa3o Metropolitana de Ribeir\\xc3\\xa3o Preto;2\\xc2\\xba Ano EF;9;GERAL;1;L\\xc3\\x8dNGUA PORTUGUESA;174,8\\r\\n2;2;Rede Municipal;6;Regi\\xc3\\xa3o Metropolitana de Ribeir\\xc3\\xa3o Preto;2\\xc2\\xba Ano EF;9;GERAL;2;MATEM\\xc3\\x81TICA;170,3\\r\\n2;2;Rede Municipal;6;Regi\\xc3\\xa3o Metropolitana de Ribeir\\xc3\\xa3o Preto;5\\xc2\\xba Ano EF;1;MANH\\xc3\\x83;1;L\\xc3\\x8dNGUA PORTUGUESA;198,6\\r\\n2;2;Rede Municipal;6;Regi\\xc3\\xa3o Metropolitana de Ribeir\\xc3\\xa3o Preto;5\\xc2\\xba Ano EF;1;MANH\\xc3\\x83;2;MATEM\\xc3\\x81TICA;213,3\\r\\n2;2;Rede Municipal;6;Regi\\xc3\\xa3o Metropolitana de Ribeir\\xc3\\xa3o Preto;5\\xc2\\xba Ano EF;2;TARDE;1;L\\xc3\\x8dNGUA PORTUGUESA;191,2\\r\\n2;2;Rede Municipal;6;Regi\\xc3\\xa3o Metropolitana de Ribeir\\xc3\\xa3o Preto;5\\xc2\\xba Ano EF;2;TARDE;2;MATEM\\xc3\\x81TICA;205,6\\r\\n2;2;Rede Municipal;6;Regi\\xc3\\xa3o Metropolitana de Ribeir\\xc3\\xa3o Preto;5\\xc2\\xba Ano EF;9;GERAL;1;L\\xc3\\x8dNGUA PORTUGUESA;195,7\\r\\n2;2;Rede Municipal;6;Regi\\xc3\\xa3o Metropolitana de Ribeir\\xc3\\xa3o Preto;5\\xc2\\xba Ano EF;9;GERAL;2;MATEM\\xc3\\x81TICA;210,3\\r\\n2;2;Rede Municipal;6;Regi\\xc3\\xa3o Metropolitana de Ribeir\\xc3\\xa3o Preto;9\\xc2\\xba Ano EF;1;MANH\\xc3\\x83;1;L\\xc3\\x8dNGUA PORTUGUESA;239,9\\r\\n2;2;Rede Municipal;6;Regi\\xc3\\xa3o Metropolitana de Ribeir\\xc3\\xa3o Preto;9\\xc2\\xba Ano EF;1;MANH\\xc3\\x83;2;MATEM\\xc3\\x81TICA;249,7\\r\\n2;2;Rede Municipal;6;Regi\\xc3\\xa3o Metropolitana de Ribeir\\xc3\\xa3o Preto;9\\xc2\\xba Ano EF;2;TARDE;1;L\\xc3\\x8dNGUA PORTUGUESA;227,2\\r\\n2;2;Rede Municipal;6;Regi\\xc3\\xa3o Metropolitana de Ribeir\\xc3\\xa3o Preto;9\\xc2\\xba Ano EF;2;TARDE;2;MATEM\\xc3\\x81TICA;235,8\\r\\n2;2;Rede Municipal;6;Regi\\xc3\\xa3o Metropolitana de Ribeir\\xc3\\xa3o Preto;9\\xc2\\xba Ano EF;9;GERAL;1;L\\xc3\\x8dNGUA PORTUGUESA;234\\r\\n2;2;Rede Municipal;6;Regi\\xc3\\xa3o Metropolitana de Ribeir\\xc3\\xa3o Preto;9\\xc2\\xba Ano EF;9;GERAL;2;MATEM\\xc3\\x81TICA;243,2\\r\\n2;2;Rede Municipal;7;Regi\\xc3\\xa3o Metropolitana de Sorocaba;2\\xc2\\xba Ano EF;1;MANH\\xc3\\x83;1;L\\xc3\\x8dNGUA PORTUGUESA;172,2\\r\\n2;2;Rede Municipal;7;Regi\\xc3\\xa3o Metropolitana de Sorocaba;2\\xc2\\xba Ano EF;1;MANH\\xc3\\x83;2;MATEM\\xc3\\x81TICA;164,7\\r\\n2;2;Rede Municipal;7;Regi\\xc3\\xa3o Metropolitana de Sorocaba;2\\xc2\\xba Ano EF;2;TARDE;1;L\\xc3\\x8dNGUA PORTUGUESA;172,6\\r\\n2;2;Rede Municipal;7;Regi\\xc3\\xa3o Metropolitana de Sorocaba;2\\xc2\\xba Ano EF;2;TARDE;2;MATEM\\xc3\\x81TICA;167\\r\\n2;2;Rede Municipal;7;Regi\\xc3\\xa3o Metropolitana de Sorocaba;2\\xc2\\xba Ano EF;9;GERAL;1;L\\xc3\\x8dNGUA PORTUGUESA;172,4\\r\\n2;2;Rede Municipal;7;Regi\\xc3\\xa3o Metropolitana de Sorocaba;2\\xc2\\xba Ano EF;9;GERAL;2;MATEM\\xc3\\x81TICA;166,2\\r\\n2;2;Rede Municipal;7;Regi\\xc3\\xa3o Metropolitana de Sorocaba;5\\xc2\\xba Ano EF;1;MANH\\xc3\\x83;1;L\\xc3\\x8dNGUA PORTUGUESA;199,4\\r\\n2;2;Rede Municipal;7;Regi\\xc3\\xa3o Metropolitana de Sorocaba;5\\xc2\\xba Ano EF;1;MANH\\xc3\\x83;2;MATEM\\xc3\\x81TICA;212,1\\r\\n2;2;Rede Municipal;7;Regi\\xc3\\xa3o Metropolitana de Sorocaba;5\\xc2\\xba Ano EF;2;TARDE;1;L\\xc3\\x8dNGUA PORTUGUESA;200,3\\r\\n2;2;Rede Municipal;7;Regi\\xc3\\xa3o Metropolitana de Sorocaba;5\\xc2\\xba Ano EF;2;TARDE;2;MATEM\\xc3\\x81TICA;212,3\\r\\n2;2;Rede Municipal;7;Regi\\xc3\\xa3o Metropolitana de Sorocaba;5\\xc2\\xba Ano EF;9;GERAL;1;L\\xc3\\x8dNGUA PORTUGUESA;199,7\\r\\n2;2;Rede Municipal;7;Regi\\xc3\\xa3o Metropolitana de Sorocaba;5\\xc2\\xba Ano EF;9;GERAL;2;MATEM\\xc3\\x81TICA;212,2\\r\\n2;2;Rede Municipal;7;Regi\\xc3\\xa3o Metropolitana de Sorocaba;9\\xc2\\xba Ano EF;1;MANH\\xc3\\x83;1;L\\xc3\\x8dNGUA PORTUGUESA;0\\r\\n2;2;Rede Municipal;7;Regi\\xc3\\xa3o Metropolitana de Sorocaba;9\\xc2\\xba Ano EF;1;MANH\\xc3\\x83;2;MATEM\\xc3\\x81TICA;0\\r\\n2;2;Rede Municipal;7;Regi\\xc3\\xa3o Metropolitana de Sorocaba;9\\xc2\\xba Ano EF;2;TARDE;1;L\\xc3\\x8dNGUA PORTUGUESA;236,5\\r\\n2;2;Rede Municipal;7;Regi\\xc3\\xa3o Metropolitana de Sorocaba;9\\xc2\\xba Ano EF;2;TARDE;2;MATEM\\xc3\\x81TICA;254,8\\r\\n2;2;Rede Municipal;7;Regi\\xc3\\xa3o Metropolitana de Sorocaba;9\\xc2\\xba Ano EF;9;GERAL;1;L\\xc3\\x8dNGUA PORTUGUESA;236,5\\r\\n2;2;Rede Municipal;7;Regi\\xc3\\xa3o Metropolitana de Sorocaba;9\\xc2\\xba Ano EF;9;GERAL;2;MATEM\\xc3\\x81TICA;254,8\\r\\n2;2;Rede Municipal;9;ESTADO;2\\xc2\\xba Ano EF;1;MANH\\xc3\\x83;1;L\\xc3\\x8dNGUA PORTUGUESA;172,6\\r\\n2;2;Rede Municipal;9;ESTADO;2\\xc2\\xba Ano EF;1;MANH\\xc3\\x83;2;MATEM\\xc3\\x81TICA;166,9\\r\\n2;2;Rede Municipal;9;ESTADO;2\\xc2\\xba Ano EF;2;TARDE;1;L\\xc3\\x8dNGUA PORTUGUESA;170\\r\\n2;2;Rede Municipal;9;ESTADO;2\\xc2\\xba Ano EF;2;TARDE;2;MATEM\\xc3\\x81TICA;163,8\\r\\n2;2;Rede Municipal;9;ESTADO;2\\xc2\\xba Ano EF;9;GERAL;1;L\\xc3\\x8dNGUA PORTUGUESA;171,1\\r\\n2;2;Rede Municipal;9;ESTADO;2\\xc2\\xba Ano EF;9;GERAL;2;MATEM\\xc3\\x81TICA;165,1\\r\\n2;2;Rede Municipal;9;ESTADO;5\\xc2\\xba Ano EF;1;MANH\\xc3\\x83;1;L\\xc3\\x8dNGUA PORTUGUESA;200,2\\r\\n2;2;Rede Municipal;9;ESTADO;5\\xc2\\xba Ano EF;1;MANH\\xc3\\x83;2;MATEM\\xc3\\x81TICA;214,1\\r\\n2;2;Rede Municipal;9;ESTADO;5\\xc2\\xba Ano EF;2;TARDE;1;L\\xc3\\x8dNGUA PORTUGUESA;199,4\\r\\n2;2;Rede Municipal;9;ESTADO;5\\xc2\\xba Ano EF;2;TARDE;2;MATEM\\xc3\\x81TICA;213,1\\r\\n2;2;Rede Municipal;9;ESTADO;5\\xc2\\xba Ano EF;9;GERAL;1;L\\xc3\\x8dNGUA PORTUGUESA;199,9\\r\\n2;2;Rede Municipal;9;ESTADO;5\\xc2\\xba Ano EF;9;GERAL;2;MATEM\\xc3\\x81TICA;213,7\\r\\n2;2;Rede Municipal;9;ESTADO;9\\xc2\\xba Ano EF;1;MANH\\xc3\\x83;1;L\\xc3\\x8dNGUA PORTUGUESA;244,7\\r\\n2;2;Rede Municipal;9;ESTADO;9\\xc2\\xba Ano EF;1;MANH\\xc3\\x83;2;MATEM\\xc3\\x81TICA;257\\r\\n2;2;Rede Municipal;9;ESTADO;9\\xc2\\xba Ano EF;2;TARDE;1;L\\xc3\\x8dNGUA PORTUGUESA;234,9\\r\\n2;2;Rede Municipal;9;ESTADO;9\\xc2\\xba Ano EF;2;TARDE;2;MATEM\\xc3\\x81TICA;246\\r\\n2;2;Rede Municipal;9;ESTADO;9\\xc2\\xba Ano EF;3;NOITE;1;L\\xc3\\x8dNGUA PORTUGUESA;0\\r\\n2;2;Rede Municipal;9;ESTADO;9\\xc2\\xba Ano EF;3;NOITE;2;MATEM\\xc3\\x81TICA;0\\r\\n2;2;Rede Municipal;9;ESTADO;9\\xc2\\xba Ano EF;9;GERAL;1;L\\xc3\\x8dNGUA PORTUGUESA;243,2\\r\\n2;2;Rede Municipal;9;ESTADO;9\\xc2\\xba Ano EF;9;GERAL;2;MATEM\\xc3\\x81TICA;255,3\\r\\n'"
            ]
          },
          "metadata": {},
          "execution_count": 5
        }
      ]
    },
    {
      "cell_type": "code",
      "source": [
        "parse_data = io.StringIO(data.decode(\"utf-8\"))\n",
        "print(parse_data)"
      ],
      "metadata": {
        "colab": {
          "base_uri": "https://localhost:8080/"
        },
        "id": "Y6D9j7nAbsSY",
        "outputId": "0daee149-1b34-408d-cffb-d4747a9de579"
      },
      "execution_count": null,
      "outputs": [
        {
          "output_type": "stream",
          "name": "stdout",
          "text": [
            "<_io.StringIO object at 0x7f2a9813f5b0>\n"
          ]
        }
      ]
    },
    {
      "cell_type": "code",
      "source": [
        "df = pd.read_csv(parse_data, sep=';')\n",
        "df.head()\n"
      ],
      "metadata": {
        "colab": {
          "base_uri": "https://localhost:8080/",
          "height": 313
        },
        "id": "8rWWSq-PbtDE",
        "outputId": "73b291cf-d89b-4791-e49f-6be6a68a7ec9"
      },
      "execution_count": null,
      "outputs": [
        {
          "output_type": "execute_result",
          "data": {
            "text/plain": [
              "   DEPADM  DEPBOL     NOMEDEPBOL  CODRMET                REGIAOMETROPOLITANA  \\\n",
              "0       1       1  Rede Estadual        1  Região Metropolitana de São Paulo   \n",
              "1       1       1  Rede Estadual        1  Região Metropolitana de São Paulo   \n",
              "2       1       1  Rede Estadual        1  Região Metropolitana de São Paulo   \n",
              "3       1       1  Rede Estadual        1  Região Metropolitana de São Paulo   \n",
              "4       1       1  Rede Estadual        1  Região Metropolitana de São Paulo   \n",
              "\n",
              "   SERIE_ANO  COD_PER PERIODO  CO_COMP            DS_COMP MEDPROF  \n",
              "0  2º Ano EF        1   MANHÃ        1  LÍNGUA PORTUGUESA   175,8  \n",
              "1  2º Ano EF        1   MANHÃ        2         MATEMÁTICA   167,7  \n",
              "2  2º Ano EF        2   TARDE        1  LÍNGUA PORTUGUESA   171,1  \n",
              "3  2º Ano EF        2   TARDE        2         MATEMÁTICA   163,3  \n",
              "4  2º Ano EF        9   GERAL        1  LÍNGUA PORTUGUESA   172,7  "
            ],
            "text/html": [
              "\n",
              "  <div id=\"df-44f0d60a-40c4-4c48-8e0f-a9e25bc275e7\" class=\"colab-df-container\">\n",
              "    <div>\n",
              "<style scoped>\n",
              "    .dataframe tbody tr th:only-of-type {\n",
              "        vertical-align: middle;\n",
              "    }\n",
              "\n",
              "    .dataframe tbody tr th {\n",
              "        vertical-align: top;\n",
              "    }\n",
              "\n",
              "    .dataframe thead th {\n",
              "        text-align: right;\n",
              "    }\n",
              "</style>\n",
              "<table border=\"1\" class=\"dataframe\">\n",
              "  <thead>\n",
              "    <tr style=\"text-align: right;\">\n",
              "      <th></th>\n",
              "      <th>DEPADM</th>\n",
              "      <th>DEPBOL</th>\n",
              "      <th>NOMEDEPBOL</th>\n",
              "      <th>CODRMET</th>\n",
              "      <th>REGIAOMETROPOLITANA</th>\n",
              "      <th>SERIE_ANO</th>\n",
              "      <th>COD_PER</th>\n",
              "      <th>PERIODO</th>\n",
              "      <th>CO_COMP</th>\n",
              "      <th>DS_COMP</th>\n",
              "      <th>MEDPROF</th>\n",
              "    </tr>\n",
              "  </thead>\n",
              "  <tbody>\n",
              "    <tr>\n",
              "      <th>0</th>\n",
              "      <td>1</td>\n",
              "      <td>1</td>\n",
              "      <td>Rede Estadual</td>\n",
              "      <td>1</td>\n",
              "      <td>Região Metropolitana de São Paulo</td>\n",
              "      <td>2º Ano EF</td>\n",
              "      <td>1</td>\n",
              "      <td>MANHÃ</td>\n",
              "      <td>1</td>\n",
              "      <td>LÍNGUA PORTUGUESA</td>\n",
              "      <td>175,8</td>\n",
              "    </tr>\n",
              "    <tr>\n",
              "      <th>1</th>\n",
              "      <td>1</td>\n",
              "      <td>1</td>\n",
              "      <td>Rede Estadual</td>\n",
              "      <td>1</td>\n",
              "      <td>Região Metropolitana de São Paulo</td>\n",
              "      <td>2º Ano EF</td>\n",
              "      <td>1</td>\n",
              "      <td>MANHÃ</td>\n",
              "      <td>2</td>\n",
              "      <td>MATEMÁTICA</td>\n",
              "      <td>167,7</td>\n",
              "    </tr>\n",
              "    <tr>\n",
              "      <th>2</th>\n",
              "      <td>1</td>\n",
              "      <td>1</td>\n",
              "      <td>Rede Estadual</td>\n",
              "      <td>1</td>\n",
              "      <td>Região Metropolitana de São Paulo</td>\n",
              "      <td>2º Ano EF</td>\n",
              "      <td>2</td>\n",
              "      <td>TARDE</td>\n",
              "      <td>1</td>\n",
              "      <td>LÍNGUA PORTUGUESA</td>\n",
              "      <td>171,1</td>\n",
              "    </tr>\n",
              "    <tr>\n",
              "      <th>3</th>\n",
              "      <td>1</td>\n",
              "      <td>1</td>\n",
              "      <td>Rede Estadual</td>\n",
              "      <td>1</td>\n",
              "      <td>Região Metropolitana de São Paulo</td>\n",
              "      <td>2º Ano EF</td>\n",
              "      <td>2</td>\n",
              "      <td>TARDE</td>\n",
              "      <td>2</td>\n",
              "      <td>MATEMÁTICA</td>\n",
              "      <td>163,3</td>\n",
              "    </tr>\n",
              "    <tr>\n",
              "      <th>4</th>\n",
              "      <td>1</td>\n",
              "      <td>1</td>\n",
              "      <td>Rede Estadual</td>\n",
              "      <td>1</td>\n",
              "      <td>Região Metropolitana de São Paulo</td>\n",
              "      <td>2º Ano EF</td>\n",
              "      <td>9</td>\n",
              "      <td>GERAL</td>\n",
              "      <td>1</td>\n",
              "      <td>LÍNGUA PORTUGUESA</td>\n",
              "      <td>172,7</td>\n",
              "    </tr>\n",
              "  </tbody>\n",
              "</table>\n",
              "</div>\n",
              "    <div class=\"colab-df-buttons\">\n",
              "\n",
              "  <div class=\"colab-df-container\">\n",
              "    <button class=\"colab-df-convert\" onclick=\"convertToInteractive('df-44f0d60a-40c4-4c48-8e0f-a9e25bc275e7')\"\n",
              "            title=\"Convert this dataframe to an interactive table.\"\n",
              "            style=\"display:none;\">\n",
              "\n",
              "  <svg xmlns=\"http://www.w3.org/2000/svg\" height=\"24px\" viewBox=\"0 -960 960 960\">\n",
              "    <path d=\"M120-120v-720h720v720H120Zm60-500h600v-160H180v160Zm220 220h160v-160H400v160Zm0 220h160v-160H400v160ZM180-400h160v-160H180v160Zm440 0h160v-160H620v160ZM180-180h160v-160H180v160Zm440 0h160v-160H620v160Z\"/>\n",
              "  </svg>\n",
              "    </button>\n",
              "\n",
              "  <style>\n",
              "    .colab-df-container {\n",
              "      display:flex;\n",
              "      gap: 12px;\n",
              "    }\n",
              "\n",
              "    .colab-df-convert {\n",
              "      background-color: #E8F0FE;\n",
              "      border: none;\n",
              "      border-radius: 50%;\n",
              "      cursor: pointer;\n",
              "      display: none;\n",
              "      fill: #1967D2;\n",
              "      height: 32px;\n",
              "      padding: 0 0 0 0;\n",
              "      width: 32px;\n",
              "    }\n",
              "\n",
              "    .colab-df-convert:hover {\n",
              "      background-color: #E2EBFA;\n",
              "      box-shadow: 0px 1px 2px rgba(60, 64, 67, 0.3), 0px 1px 3px 1px rgba(60, 64, 67, 0.15);\n",
              "      fill: #174EA6;\n",
              "    }\n",
              "\n",
              "    .colab-df-buttons div {\n",
              "      margin-bottom: 4px;\n",
              "    }\n",
              "\n",
              "    [theme=dark] .colab-df-convert {\n",
              "      background-color: #3B4455;\n",
              "      fill: #D2E3FC;\n",
              "    }\n",
              "\n",
              "    [theme=dark] .colab-df-convert:hover {\n",
              "      background-color: #434B5C;\n",
              "      box-shadow: 0px 1px 3px 1px rgba(0, 0, 0, 0.15);\n",
              "      filter: drop-shadow(0px 1px 2px rgba(0, 0, 0, 0.3));\n",
              "      fill: #FFFFFF;\n",
              "    }\n",
              "  </style>\n",
              "\n",
              "    <script>\n",
              "      const buttonEl =\n",
              "        document.querySelector('#df-44f0d60a-40c4-4c48-8e0f-a9e25bc275e7 button.colab-df-convert');\n",
              "      buttonEl.style.display =\n",
              "        google.colab.kernel.accessAllowed ? 'block' : 'none';\n",
              "\n",
              "      async function convertToInteractive(key) {\n",
              "        const element = document.querySelector('#df-44f0d60a-40c4-4c48-8e0f-a9e25bc275e7');\n",
              "        const dataTable =\n",
              "          await google.colab.kernel.invokeFunction('convertToInteractive',\n",
              "                                                    [key], {});\n",
              "        if (!dataTable) return;\n",
              "\n",
              "        const docLinkHtml = 'Like what you see? Visit the ' +\n",
              "          '<a target=\"_blank\" href=https://colab.research.google.com/notebooks/data_table.ipynb>data table notebook</a>'\n",
              "          + ' to learn more about interactive tables.';\n",
              "        element.innerHTML = '';\n",
              "        dataTable['output_type'] = 'display_data';\n",
              "        await google.colab.output.renderOutput(dataTable, element);\n",
              "        const docLink = document.createElement('div');\n",
              "        docLink.innerHTML = docLinkHtml;\n",
              "        element.appendChild(docLink);\n",
              "      }\n",
              "    </script>\n",
              "  </div>\n",
              "\n",
              "\n",
              "<div id=\"df-d8c6b121-1a48-4eb6-93be-b49ad914dca7\">\n",
              "  <button class=\"colab-df-quickchart\" onclick=\"quickchart('df-d8c6b121-1a48-4eb6-93be-b49ad914dca7')\"\n",
              "            title=\"Suggest charts\"\n",
              "            style=\"display:none;\">\n",
              "\n",
              "<svg xmlns=\"http://www.w3.org/2000/svg\" height=\"24px\"viewBox=\"0 0 24 24\"\n",
              "     width=\"24px\">\n",
              "    <g>\n",
              "        <path d=\"M19 3H5c-1.1 0-2 .9-2 2v14c0 1.1.9 2 2 2h14c1.1 0 2-.9 2-2V5c0-1.1-.9-2-2-2zM9 17H7v-7h2v7zm4 0h-2V7h2v10zm4 0h-2v-4h2v4z\"/>\n",
              "    </g>\n",
              "</svg>\n",
              "  </button>\n",
              "\n",
              "<style>\n",
              "  .colab-df-quickchart {\n",
              "      --bg-color: #E8F0FE;\n",
              "      --fill-color: #1967D2;\n",
              "      --hover-bg-color: #E2EBFA;\n",
              "      --hover-fill-color: #174EA6;\n",
              "      --disabled-fill-color: #AAA;\n",
              "      --disabled-bg-color: #DDD;\n",
              "  }\n",
              "\n",
              "  [theme=dark] .colab-df-quickchart {\n",
              "      --bg-color: #3B4455;\n",
              "      --fill-color: #D2E3FC;\n",
              "      --hover-bg-color: #434B5C;\n",
              "      --hover-fill-color: #FFFFFF;\n",
              "      --disabled-bg-color: #3B4455;\n",
              "      --disabled-fill-color: #666;\n",
              "  }\n",
              "\n",
              "  .colab-df-quickchart {\n",
              "    background-color: var(--bg-color);\n",
              "    border: none;\n",
              "    border-radius: 50%;\n",
              "    cursor: pointer;\n",
              "    display: none;\n",
              "    fill: var(--fill-color);\n",
              "    height: 32px;\n",
              "    padding: 0;\n",
              "    width: 32px;\n",
              "  }\n",
              "\n",
              "  .colab-df-quickchart:hover {\n",
              "    background-color: var(--hover-bg-color);\n",
              "    box-shadow: 0 1px 2px rgba(60, 64, 67, 0.3), 0 1px 3px 1px rgba(60, 64, 67, 0.15);\n",
              "    fill: var(--button-hover-fill-color);\n",
              "  }\n",
              "\n",
              "  .colab-df-quickchart-complete:disabled,\n",
              "  .colab-df-quickchart-complete:disabled:hover {\n",
              "    background-color: var(--disabled-bg-color);\n",
              "    fill: var(--disabled-fill-color);\n",
              "    box-shadow: none;\n",
              "  }\n",
              "\n",
              "  .colab-df-spinner {\n",
              "    border: 2px solid var(--fill-color);\n",
              "    border-color: transparent;\n",
              "    border-bottom-color: var(--fill-color);\n",
              "    animation:\n",
              "      spin 1s steps(1) infinite;\n",
              "  }\n",
              "\n",
              "  @keyframes spin {\n",
              "    0% {\n",
              "      border-color: transparent;\n",
              "      border-bottom-color: var(--fill-color);\n",
              "      border-left-color: var(--fill-color);\n",
              "    }\n",
              "    20% {\n",
              "      border-color: transparent;\n",
              "      border-left-color: var(--fill-color);\n",
              "      border-top-color: var(--fill-color);\n",
              "    }\n",
              "    30% {\n",
              "      border-color: transparent;\n",
              "      border-left-color: var(--fill-color);\n",
              "      border-top-color: var(--fill-color);\n",
              "      border-right-color: var(--fill-color);\n",
              "    }\n",
              "    40% {\n",
              "      border-color: transparent;\n",
              "      border-right-color: var(--fill-color);\n",
              "      border-top-color: var(--fill-color);\n",
              "    }\n",
              "    60% {\n",
              "      border-color: transparent;\n",
              "      border-right-color: var(--fill-color);\n",
              "    }\n",
              "    80% {\n",
              "      border-color: transparent;\n",
              "      border-right-color: var(--fill-color);\n",
              "      border-bottom-color: var(--fill-color);\n",
              "    }\n",
              "    90% {\n",
              "      border-color: transparent;\n",
              "      border-bottom-color: var(--fill-color);\n",
              "    }\n",
              "  }\n",
              "</style>\n",
              "\n",
              "  <script>\n",
              "    async function quickchart(key) {\n",
              "      const quickchartButtonEl =\n",
              "        document.querySelector('#' + key + ' button');\n",
              "      quickchartButtonEl.disabled = true;  // To prevent multiple clicks.\n",
              "      quickchartButtonEl.classList.add('colab-df-spinner');\n",
              "      try {\n",
              "        const charts = await google.colab.kernel.invokeFunction(\n",
              "            'suggestCharts', [key], {});\n",
              "      } catch (error) {\n",
              "        console.error('Error during call to suggestCharts:', error);\n",
              "      }\n",
              "      quickchartButtonEl.classList.remove('colab-df-spinner');\n",
              "      quickchartButtonEl.classList.add('colab-df-quickchart-complete');\n",
              "    }\n",
              "    (() => {\n",
              "      let quickchartButtonEl =\n",
              "        document.querySelector('#df-d8c6b121-1a48-4eb6-93be-b49ad914dca7 button');\n",
              "      quickchartButtonEl.style.display =\n",
              "        google.colab.kernel.accessAllowed ? 'block' : 'none';\n",
              "    })();\n",
              "  </script>\n",
              "</div>\n",
              "\n",
              "    </div>\n",
              "  </div>\n"
            ],
            "application/vnd.google.colaboratory.intrinsic+json": {
              "type": "dataframe",
              "variable_name": "df",
              "summary": "{\n  \"name\": \"df\",\n  \"rows\": 290,\n  \"fields\": [\n    {\n      \"column\": \"DEPADM\",\n      \"properties\": {\n        \"dtype\": \"number\",\n        \"std\": 0,\n        \"min\": 1,\n        \"max\": 2,\n        \"num_unique_values\": 2,\n        \"samples\": [\n          2,\n          1\n        ],\n        \"semantic_type\": \"\",\n        \"description\": \"\"\n      }\n    },\n    {\n      \"column\": \"DEPBOL\",\n      \"properties\": {\n        \"dtype\": \"number\",\n        \"std\": 0,\n        \"min\": 1,\n        \"max\": 2,\n        \"num_unique_values\": 2,\n        \"samples\": [\n          2,\n          1\n        ],\n        \"semantic_type\": \"\",\n        \"description\": \"\"\n      }\n    },\n    {\n      \"column\": \"NOMEDEPBOL\",\n      \"properties\": {\n        \"dtype\": \"category\",\n        \"num_unique_values\": 2,\n        \"samples\": [\n          \"Rede Municipal\",\n          \"Rede Estadual\"\n        ],\n        \"semantic_type\": \"\",\n        \"description\": \"\"\n      }\n    },\n    {\n      \"column\": \"CODRMET\",\n      \"properties\": {\n        \"dtype\": \"number\",\n        \"std\": 2,\n        \"min\": 1,\n        \"max\": 9,\n        \"num_unique_values\": 8,\n        \"samples\": [\n          2,\n          6\n        ],\n        \"semantic_type\": \"\",\n        \"description\": \"\"\n      }\n    },\n    {\n      \"column\": \"REGIAOMETROPOLITANA\",\n      \"properties\": {\n        \"dtype\": \"category\",\n        \"num_unique_values\": 8,\n        \"samples\": [\n          \"Regi\\u00e3o Metropolitana da Baixada Santista\",\n          \"Regi\\u00e3o Metropolitana de Ribeir\\u00e3o Preto\"\n        ],\n        \"semantic_type\": \"\",\n        \"description\": \"\"\n      }\n    },\n    {\n      \"column\": \"SERIE_ANO\",\n      \"properties\": {\n        \"dtype\": \"category\",\n        \"num_unique_values\": 3,\n        \"samples\": [\n          \"2\\u00ba Ano EF\",\n          \"5\\u00ba Ano EF\"\n        ],\n        \"semantic_type\": \"\",\n        \"description\": \"\"\n      }\n    },\n    {\n      \"column\": \"COD_PER\",\n      \"properties\": {\n        \"dtype\": \"number\",\n        \"std\": 3,\n        \"min\": 1,\n        \"max\": 9,\n        \"num_unique_values\": 4,\n        \"samples\": [\n          2,\n          3\n        ],\n        \"semantic_type\": \"\",\n        \"description\": \"\"\n      }\n    },\n    {\n      \"column\": \"PERIODO\",\n      \"properties\": {\n        \"dtype\": \"category\",\n        \"num_unique_values\": 4,\n        \"samples\": [\n          \"TARDE\",\n          \"NOITE\"\n        ],\n        \"semantic_type\": \"\",\n        \"description\": \"\"\n      }\n    },\n    {\n      \"column\": \"CO_COMP\",\n      \"properties\": {\n        \"dtype\": \"number\",\n        \"std\": 0,\n        \"min\": 1,\n        \"max\": 2,\n        \"num_unique_values\": 2,\n        \"samples\": [\n          2,\n          1\n        ],\n        \"semantic_type\": \"\",\n        \"description\": \"\"\n      }\n    },\n    {\n      \"column\": \"DS_COMP\",\n      \"properties\": {\n        \"dtype\": \"category\",\n        \"num_unique_values\": 2,\n        \"samples\": [\n          \"MATEM\\u00c1TICA\",\n          \"L\\u00cdNGUA PORTUGUESA\"\n        ],\n        \"semantic_type\": \"\",\n        \"description\": \"\"\n      }\n    },\n    {\n      \"column\": \"MEDPROF\",\n      \"properties\": {\n        \"dtype\": \"string\",\n        \"num_unique_values\": 239,\n        \"samples\": [\n          \"184,4\",\n          \"200,2\"\n        ],\n        \"semantic_type\": \"\",\n        \"description\": \"\"\n      }\n    }\n  ]\n}"
            }
          },
          "metadata": {},
          "execution_count": 7
        }
      ]
    },
    {
      "cell_type": "code",
      "source": [
        "spark = SparkSession.builder.appName(\"Dados\").getOrCreate()"
      ],
      "metadata": {
        "id": "6YLlPNpJb14n"
      },
      "execution_count": null,
      "outputs": []
    },
    {
      "cell_type": "code",
      "source": [
        "df = spark.createDataFrame(df)\n",
        "df.show()"
      ],
      "metadata": {
        "id": "GJkbL65XzIdm",
        "colab": {
          "base_uri": "https://localhost:8080/"
        },
        "outputId": "cae8d929-721f-42fd-e1d7-66e9e96bb3d5"
      },
      "execution_count": null,
      "outputs": [
        {
          "output_type": "stream",
          "name": "stdout",
          "text": [
            "+------+------+-------------+-------+--------------------+---------+-------+-------+-------+-----------------+-------+\n",
            "|DEPADM|DEPBOL|   NOMEDEPBOL|CODRMET| REGIAOMETROPOLITANA|SERIE_ANO|COD_PER|PERIODO|CO_COMP|          DS_COMP|MEDPROF|\n",
            "+------+------+-------------+-------+--------------------+---------+-------+-------+-------+-----------------+-------+\n",
            "|     1|     1|Rede Estadual|      1|Região Metropolit...|2º Ano EF|      1|  MANHÃ|      1|LÍNGUA PORTUGUESA|  175,8|\n",
            "|     1|     1|Rede Estadual|      1|Região Metropolit...|2º Ano EF|      1|  MANHÃ|      2|       MATEMÁTICA|  167,7|\n",
            "|     1|     1|Rede Estadual|      1|Região Metropolit...|2º Ano EF|      2|  TARDE|      1|LÍNGUA PORTUGUESA|  171,1|\n",
            "|     1|     1|Rede Estadual|      1|Região Metropolit...|2º Ano EF|      2|  TARDE|      2|       MATEMÁTICA|  163,3|\n",
            "|     1|     1|Rede Estadual|      1|Região Metropolit...|2º Ano EF|      9|  GERAL|      1|LÍNGUA PORTUGUESA|  172,7|\n",
            "|     1|     1|Rede Estadual|      1|Região Metropolit...|2º Ano EF|      9|  GERAL|      2|       MATEMÁTICA|  164,8|\n",
            "|     1|     1|Rede Estadual|      1|Região Metropolit...|5º Ano EF|      1|  MANHÃ|      1|LÍNGUA PORTUGUESA|  200,2|\n",
            "|     1|     1|Rede Estadual|      1|Região Metropolit...|5º Ano EF|      1|  MANHÃ|      2|       MATEMÁTICA|  214,1|\n",
            "|     1|     1|Rede Estadual|      1|Região Metropolit...|5º Ano EF|      2|  TARDE|      1|LÍNGUA PORTUGUESA|  197,2|\n",
            "|     1|     1|Rede Estadual|      1|Região Metropolit...|5º Ano EF|      2|  TARDE|      2|       MATEMÁTICA|  210,4|\n",
            "|     1|     1|Rede Estadual|      1|Região Metropolit...|5º Ano EF|      9|  GERAL|      1|LÍNGUA PORTUGUESA|  199,2|\n",
            "|     1|     1|Rede Estadual|      1|Região Metropolit...|5º Ano EF|      9|  GERAL|      2|       MATEMÁTICA|  212,9|\n",
            "|     1|     1|Rede Estadual|      1|Região Metropolit...|9º Ano EF|      1|  MANHÃ|      1|LÍNGUA PORTUGUESA|  232,2|\n",
            "|     1|     1|Rede Estadual|      1|Região Metropolit...|9º Ano EF|      1|  MANHÃ|      2|       MATEMÁTICA|  243,4|\n",
            "|     1|     1|Rede Estadual|      1|Região Metropolit...|9º Ano EF|      2|  TARDE|      1|LÍNGUA PORTUGUESA|    231|\n",
            "|     1|     1|Rede Estadual|      1|Região Metropolit...|9º Ano EF|      2|  TARDE|      2|       MATEMÁTICA|  240,2|\n",
            "|     1|     1|Rede Estadual|      1|Região Metropolit...|9º Ano EF|      9|  GERAL|      1|LÍNGUA PORTUGUESA|  231,9|\n",
            "|     1|     1|Rede Estadual|      1|Região Metropolit...|9º Ano EF|      9|  GERAL|      2|       MATEMÁTICA|  242,7|\n",
            "|     1|     1|Rede Estadual|      2|Região Metropolit...|2º Ano EF|      1|  MANHÃ|      1|LÍNGUA PORTUGUESA|    164|\n",
            "|     1|     1|Rede Estadual|      2|Região Metropolit...|2º Ano EF|      1|  MANHÃ|      2|       MATEMÁTICA|  157,7|\n",
            "+------+------+-------------+-------+--------------------+---------+-------+-------+-------+-----------------+-------+\n",
            "only showing top 20 rows\n",
            "\n"
          ]
        }
      ]
    },
    {
      "cell_type": "markdown",
      "source": [
        "## TRANSFORM"
      ],
      "metadata": {
        "id": "Icxnhil7oNio"
      }
    },
    {
      "cell_type": "code",
      "source": [
        "df.printSchema()"
      ],
      "metadata": {
        "colab": {
          "base_uri": "https://localhost:8080/"
        },
        "id": "Q_xn3_F4ogvW",
        "outputId": "1020f6f6-fe7c-46bb-e307-8cdd5faa7e69"
      },
      "execution_count": null,
      "outputs": [
        {
          "output_type": "stream",
          "name": "stdout",
          "text": [
            "root\n",
            " |-- DEPADM: long (nullable = true)\n",
            " |-- DEPBOL: long (nullable = true)\n",
            " |-- NOMEDEPBOL: string (nullable = true)\n",
            " |-- CODRMET: long (nullable = true)\n",
            " |-- REGIAOMETROPOLITANA: string (nullable = true)\n",
            " |-- SERIE_ANO: string (nullable = true)\n",
            " |-- COD_PER: long (nullable = true)\n",
            " |-- PERIODO: string (nullable = true)\n",
            " |-- CO_COMP: long (nullable = true)\n",
            " |-- DS_COMP: string (nullable = true)\n",
            " |-- MEDPROF: string (nullable = true)\n",
            "\n"
          ]
        }
      ]
    },
    {
      "cell_type": "code",
      "source": [
        "df.count()"
      ],
      "metadata": {
        "colab": {
          "base_uri": "https://localhost:8080/"
        },
        "id": "S_j-QYNMnKP3",
        "outputId": "38b0377c-a3c7-4cdb-b9ca-45421bf31741"
      },
      "execution_count": null,
      "outputs": [
        {
          "output_type": "execute_result",
          "data": {
            "text/plain": [
              "290"
            ]
          },
          "metadata": {},
          "execution_count": 21
        }
      ]
    },
    {
      "cell_type": "code",
      "source": [
        "df.columns"
      ],
      "metadata": {
        "colab": {
          "base_uri": "https://localhost:8080/"
        },
        "id": "hyRv3Elaoyxz",
        "outputId": "2aef45c8-bbcf-4fa0-8fd0-2edeb41b1ed4"
      },
      "execution_count": null,
      "outputs": [
        {
          "output_type": "execute_result",
          "data": {
            "text/plain": [
              "['DEPADM',\n",
              " 'DEPBOL',\n",
              " 'NOMEDEPBOL',\n",
              " 'CODRMET',\n",
              " 'REGIAOMETROPOLITANA',\n",
              " 'SERIE_ANO',\n",
              " 'COD_PER',\n",
              " 'PERIODO',\n",
              " 'CO_COMP',\n",
              " 'DS_COMP',\n",
              " 'MEDPROF']"
            ]
          },
          "metadata": {},
          "execution_count": 22
        }
      ]
    },
    {
      "cell_type": "code",
      "source": [
        "df = (df.withColumnRenamed('DEPADM', \"DEPTO_ADM\")\n",
        ".withColumnRenamed('DEPBOL', \"DEPTO_BOLETIM\")\n",
        ")"
      ],
      "metadata": {
        "id": "j-Up47cZqRkB"
      },
      "execution_count": null,
      "outputs": []
    },
    {
      "cell_type": "code",
      "source": [
        "df.columns"
      ],
      "metadata": {
        "colab": {
          "base_uri": "https://localhost:8080/"
        },
        "id": "sZv1bxT4q-6D",
        "outputId": "dd924c4b-9904-45c0-b61f-a420c678093e"
      },
      "execution_count": null,
      "outputs": [
        {
          "output_type": "execute_result",
          "data": {
            "text/plain": [
              "['DEPTO_ADM',\n",
              " 'DEPTO_BOLETIM',\n",
              " 'NOMEDEPBOL',\n",
              " 'CODRMET',\n",
              " 'REGIAOMETROPOLITANA',\n",
              " 'SERIE_ANO',\n",
              " 'COD_PER',\n",
              " 'PERIODO',\n",
              " 'CO_COMP',\n",
              " 'DS_COMP',\n",
              " 'MEDPROF']"
            ]
          },
          "metadata": {},
          "execution_count": 25
        }
      ]
    },
    {
      "cell_type": "code",
      "source": [
        "df = df.select([x.lower() for x in df.columns])\n",
        "df.printSchema()\n",
        "df.show()"
      ],
      "metadata": {
        "colab": {
          "base_uri": "https://localhost:8080/"
        },
        "id": "-gzi4VhyrVuR",
        "outputId": "7c250adb-e175-4c6d-a67b-646c5dce09b9"
      },
      "execution_count": null,
      "outputs": [
        {
          "output_type": "stream",
          "name": "stdout",
          "text": [
            "root\n",
            " |-- depto_adm: long (nullable = true)\n",
            " |-- depto_boletim: long (nullable = true)\n",
            " |-- nomedepbol: string (nullable = true)\n",
            " |-- codrmet: long (nullable = true)\n",
            " |-- regiaometropolitana: string (nullable = true)\n",
            " |-- serie_ano: string (nullable = true)\n",
            " |-- cod_per: long (nullable = true)\n",
            " |-- periodo: string (nullable = true)\n",
            " |-- co_comp: long (nullable = true)\n",
            " |-- ds_comp: string (nullable = true)\n",
            " |-- medprof: string (nullable = true)\n",
            "\n",
            "+---------+-------------+-------------+-------+--------------------+---------+-------+-------+-------+-----------------+-------+\n",
            "|depto_adm|depto_boletim|   nomedepbol|codrmet| regiaometropolitana|serie_ano|cod_per|periodo|co_comp|          ds_comp|medprof|\n",
            "+---------+-------------+-------------+-------+--------------------+---------+-------+-------+-------+-----------------+-------+\n",
            "|        1|            1|Rede Estadual|      1|Região Metropolit...|2º Ano EF|      1|  MANHÃ|      1|LÍNGUA PORTUGUESA|  175,8|\n",
            "|        1|            1|Rede Estadual|      1|Região Metropolit...|2º Ano EF|      1|  MANHÃ|      2|       MATEMÁTICA|  167,7|\n",
            "|        1|            1|Rede Estadual|      1|Região Metropolit...|2º Ano EF|      2|  TARDE|      1|LÍNGUA PORTUGUESA|  171,1|\n",
            "|        1|            1|Rede Estadual|      1|Região Metropolit...|2º Ano EF|      2|  TARDE|      2|       MATEMÁTICA|  163,3|\n",
            "|        1|            1|Rede Estadual|      1|Região Metropolit...|2º Ano EF|      9|  GERAL|      1|LÍNGUA PORTUGUESA|  172,7|\n",
            "|        1|            1|Rede Estadual|      1|Região Metropolit...|2º Ano EF|      9|  GERAL|      2|       MATEMÁTICA|  164,8|\n",
            "|        1|            1|Rede Estadual|      1|Região Metropolit...|5º Ano EF|      1|  MANHÃ|      1|LÍNGUA PORTUGUESA|  200,2|\n",
            "|        1|            1|Rede Estadual|      1|Região Metropolit...|5º Ano EF|      1|  MANHÃ|      2|       MATEMÁTICA|  214,1|\n",
            "|        1|            1|Rede Estadual|      1|Região Metropolit...|5º Ano EF|      2|  TARDE|      1|LÍNGUA PORTUGUESA|  197,2|\n",
            "|        1|            1|Rede Estadual|      1|Região Metropolit...|5º Ano EF|      2|  TARDE|      2|       MATEMÁTICA|  210,4|\n",
            "|        1|            1|Rede Estadual|      1|Região Metropolit...|5º Ano EF|      9|  GERAL|      1|LÍNGUA PORTUGUESA|  199,2|\n",
            "|        1|            1|Rede Estadual|      1|Região Metropolit...|5º Ano EF|      9|  GERAL|      2|       MATEMÁTICA|  212,9|\n",
            "|        1|            1|Rede Estadual|      1|Região Metropolit...|9º Ano EF|      1|  MANHÃ|      1|LÍNGUA PORTUGUESA|  232,2|\n",
            "|        1|            1|Rede Estadual|      1|Região Metropolit...|9º Ano EF|      1|  MANHÃ|      2|       MATEMÁTICA|  243,4|\n",
            "|        1|            1|Rede Estadual|      1|Região Metropolit...|9º Ano EF|      2|  TARDE|      1|LÍNGUA PORTUGUESA|    231|\n",
            "|        1|            1|Rede Estadual|      1|Região Metropolit...|9º Ano EF|      2|  TARDE|      2|       MATEMÁTICA|  240,2|\n",
            "|        1|            1|Rede Estadual|      1|Região Metropolit...|9º Ano EF|      9|  GERAL|      1|LÍNGUA PORTUGUESA|  231,9|\n",
            "|        1|            1|Rede Estadual|      1|Região Metropolit...|9º Ano EF|      9|  GERAL|      2|       MATEMÁTICA|  242,7|\n",
            "|        1|            1|Rede Estadual|      2|Região Metropolit...|2º Ano EF|      1|  MANHÃ|      1|LÍNGUA PORTUGUESA|    164|\n",
            "|        1|            1|Rede Estadual|      2|Região Metropolit...|2º Ano EF|      1|  MANHÃ|      2|       MATEMÁTICA|  157,7|\n",
            "+---------+-------------+-------------+-------+--------------------+---------+-------+-------+-------+-----------------+-------+\n",
            "only showing top 20 rows\n",
            "\n"
          ]
        }
      ]
    },
    {
      "cell_type": "code",
      "source": [
        "dir = '/content/drive/MyDrive/xpe/Dados'"
      ],
      "metadata": {
        "id": "1_XyZnKRs0ci"
      },
      "execution_count": null,
      "outputs": []
    },
    {
      "cell_type": "code",
      "source": [
        "df.write.format(\"overwrite\").csv(f\"{dir}/dados.csv\")"
      ],
      "metadata": {
        "id": "4LX10JUPu_QG"
      },
      "execution_count": null,
      "outputs": []
    },
    {
      "cell_type": "code",
      "source": [
        "spark.read.csv('/content/drive/MyDrive/xpe/Dados/dados.csv').show()"
      ],
      "metadata": {
        "colab": {
          "base_uri": "https://localhost:8080/"
        },
        "id": "2Y7Ek1eevis4",
        "outputId": "9c0bc8a6-0acd-4e81-80ef-316b80baf9ec"
      },
      "execution_count": null,
      "outputs": [
        {
          "output_type": "stream",
          "name": "stdout",
          "text": [
            "+---+---+-------------+---+--------------------+---------+---+-----+---+-----------------+-----+\n",
            "|_c0|_c1|          _c2|_c3|                 _c4|      _c5|_c6|  _c7|_c8|              _c9| _c10|\n",
            "+---+---+-------------+---+--------------------+---------+---+-----+---+-----------------+-----+\n",
            "|  1|  1|Rede Estadual|  1|Região Metropolit...|2º Ano EF|  1|MANHÃ|  1|LÍNGUA PORTUGUESA|175,8|\n",
            "|  1|  1|Rede Estadual|  1|Região Metropolit...|2º Ano EF|  1|MANHÃ|  2|       MATEMÁTICA|167,7|\n",
            "|  1|  1|Rede Estadual|  1|Região Metropolit...|2º Ano EF|  2|TARDE|  1|LÍNGUA PORTUGUESA|171,1|\n",
            "|  1|  1|Rede Estadual|  1|Região Metropolit...|2º Ano EF|  2|TARDE|  2|       MATEMÁTICA|163,3|\n",
            "|  1|  1|Rede Estadual|  1|Região Metropolit...|2º Ano EF|  9|GERAL|  1|LÍNGUA PORTUGUESA|172,7|\n",
            "|  1|  1|Rede Estadual|  1|Região Metropolit...|2º Ano EF|  9|GERAL|  2|       MATEMÁTICA|164,8|\n",
            "|  1|  1|Rede Estadual|  1|Região Metropolit...|5º Ano EF|  1|MANHÃ|  1|LÍNGUA PORTUGUESA|200,2|\n",
            "|  1|  1|Rede Estadual|  1|Região Metropolit...|5º Ano EF|  1|MANHÃ|  2|       MATEMÁTICA|214,1|\n",
            "|  1|  1|Rede Estadual|  1|Região Metropolit...|5º Ano EF|  2|TARDE|  1|LÍNGUA PORTUGUESA|197,2|\n",
            "|  1|  1|Rede Estadual|  1|Região Metropolit...|5º Ano EF|  2|TARDE|  2|       MATEMÁTICA|210,4|\n",
            "|  1|  1|Rede Estadual|  1|Região Metropolit...|5º Ano EF|  9|GERAL|  1|LÍNGUA PORTUGUESA|199,2|\n",
            "|  1|  1|Rede Estadual|  1|Região Metropolit...|5º Ano EF|  9|GERAL|  2|       MATEMÁTICA|212,9|\n",
            "|  1|  1|Rede Estadual|  1|Região Metropolit...|9º Ano EF|  1|MANHÃ|  1|LÍNGUA PORTUGUESA|232,2|\n",
            "|  1|  1|Rede Estadual|  1|Região Metropolit...|9º Ano EF|  1|MANHÃ|  2|       MATEMÁTICA|243,4|\n",
            "|  1|  1|Rede Estadual|  1|Região Metropolit...|9º Ano EF|  2|TARDE|  1|LÍNGUA PORTUGUESA|  231|\n",
            "|  1|  1|Rede Estadual|  1|Região Metropolit...|9º Ano EF|  2|TARDE|  2|       MATEMÁTICA|240,2|\n",
            "|  1|  1|Rede Estadual|  1|Região Metropolit...|9º Ano EF|  9|GERAL|  1|LÍNGUA PORTUGUESA|231,9|\n",
            "|  1|  1|Rede Estadual|  1|Região Metropolit...|9º Ano EF|  9|GERAL|  2|       MATEMÁTICA|242,7|\n",
            "|  1|  1|Rede Estadual|  2|Região Metropolit...|2º Ano EF|  1|MANHÃ|  1|LÍNGUA PORTUGUESA|  164|\n",
            "|  1|  1|Rede Estadual|  2|Região Metropolit...|2º Ano EF|  1|MANHÃ|  2|       MATEMÁTICA|157,7|\n",
            "+---+---+-------------+---+--------------------+---------+---+-----+---+-----------------+-----+\n",
            "only showing top 20 rows\n",
            "\n"
          ]
        }
      ]
    },
    {
      "cell_type": "code",
      "source": [],
      "metadata": {
        "id": "XIoLUr7Ev3S7"
      },
      "execution_count": null,
      "outputs": []
    }
  ]
}