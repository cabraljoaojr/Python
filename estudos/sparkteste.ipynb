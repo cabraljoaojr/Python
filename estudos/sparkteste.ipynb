{
  "nbformat": 4,
  "nbformat_minor": 0,
  "metadata": {
    "colab": {
      "provenance": []
    },
    "kernelspec": {
      "name": "python3",
      "display_name": "Python 3"
    },
    "language_info": {
      "name": "python"
    }
  },
  "cells": [
    {
      "cell_type": "markdown",
      "source": [
        "#Step 1\n",
        "Importing libraries"
      ],
      "metadata": {
        "id": "YPor0IeBjA7j"
      }
    },
    {
      "cell_type": "code",
      "execution_count": null,
      "metadata": {
        "colab": {
          "base_uri": "https://localhost:8080/"
        },
        "id": "e5fVldSQhC-O",
        "outputId": "782a9506-d7f5-4f0b-b18e-7a4b5eedc2cd"
      },
      "outputs": [
        {
          "output_type": "stream",
          "name": "stdout",
          "text": [
            "Collecting pyspark\n",
            "  Downloading pyspark-3.5.3.tar.gz (317.3 MB)\n",
            "\u001b[2K     \u001b[90m━━━━━━━━━━━━━━━━━━━━━━━━━━━━━━━━━━━━━━━━\u001b[0m \u001b[32m317.3/317.3 MB\u001b[0m \u001b[31m4.2 MB/s\u001b[0m eta \u001b[36m0:00:00\u001b[0m\n",
            "\u001b[?25h  Preparing metadata (setup.py) ... \u001b[?25l\u001b[?25hdone\n",
            "Requirement already satisfied: py4j==0.10.9.7 in /usr/local/lib/python3.10/dist-packages (from pyspark) (0.10.9.7)\n",
            "Building wheels for collected packages: pyspark\n",
            "  Building wheel for pyspark (setup.py) ... \u001b[?25l\u001b[?25hdone\n",
            "  Created wheel for pyspark: filename=pyspark-3.5.3-py2.py3-none-any.whl size=317840625 sha256=1f1c77fd738b51e157dd441dc5878c519d18711ea2148fa78885feb2bed41f4f\n",
            "  Stored in directory: /root/.cache/pip/wheels/1b/3a/92/28b93e2fbfdbb07509ca4d6f50c5e407f48dce4ddbda69a4ab\n",
            "Successfully built pyspark\n",
            "Installing collected packages: pyspark\n",
            "Successfully installed pyspark-3.5.3\n"
          ]
        }
      ],
      "source": [
        "pip install pyspark"
      ]
    },
    {
      "cell_type": "code",
      "source": [
        "from pyspark.sql import SparkSession\n",
        "from google.colab import drive\n",
        "from operator import add\n",
        "drive.mount('/content/drive')\n",
        "import requests\n",
        "import io\n",
        "import pandas as pd\n",
        "import pyspark.sql.functions as F\n"
      ],
      "metadata": {
        "id": "jkzP7VS8rxC_",
        "colab": {
          "base_uri": "https://localhost:8080/"
        },
        "outputId": "2c9f5087-e266-4a55-8b2e-bfe7c6f5e5be"
      },
      "execution_count": null,
      "outputs": [
        {
          "output_type": "stream",
          "name": "stdout",
          "text": [
            "Drive already mounted at /content/drive; to attempt to forcibly remount, call drive.mount(\"/content/drive\", force_remount=True).\n"
          ]
        }
      ]
    },
    {
      "cell_type": "code",
      "source": [
        "spark = SparkSession \\\n",
        "    .builder \\\n",
        "    .appName(\"Engenharia de dados - Tecnologia de Big Data - Aula 2.2\") \\\n",
        "    .getOrCreate()\n",
        "\n",
        "spark.version"
      ],
      "metadata": {
        "colab": {
          "base_uri": "https://localhost:8080/",
          "height": 35
        },
        "id": "xIrBbpAYGp6F",
        "outputId": "b9b22dbe-eca5-4f92-978c-a78021fab149"
      },
      "execution_count": null,
      "outputs": [
        {
          "output_type": "execute_result",
          "data": {
            "text/plain": [
              "'3.5.3'"
            ],
            "application/vnd.google.colaboratory.intrinsic+json": {
              "type": "string"
            }
          },
          "metadata": {},
          "execution_count": 4
        }
      ]
    },
    {
      "cell_type": "markdown",
      "source": [
        "#Step 2\n",
        "Extract data file"
      ],
      "metadata": {
        "id": "poO2BXSGsLKb"
      }
    },
    {
      "cell_type": "code",
      "source": [
        "filename = '/content/drive/MyDrive/Colab Notebooks/numbers.txt'\n",
        "\n",
        "linesRdd = spark.read.text(filename).rdd.map(lambda r: r[0])\n",
        "print(\"Number of partitions: {}\".format(linesRdd.getNumPartitions()))"
      ],
      "metadata": {
        "colab": {
          "base_uri": "https://localhost:8080/"
        },
        "id": "N2mbFfovr6wB",
        "outputId": "14fe3288-6b1b-4fef-931f-052b4d923fb9"
      },
      "execution_count": null,
      "outputs": [
        {
          "output_type": "stream",
          "name": "stdout",
          "text": [
            "Number of partitions: 9\n"
          ]
        }
      ]
    },
    {
      "cell_type": "code",
      "source": [
        "countsRdd = linesRdd.sample(False, 0.01) \\\n",
        "                    .flatMap(lambda line: line.split(' ')) \\\n",
        "                    .filter(lambda number: int (number) % 2 == 0) \\\n",
        "                    .map(lambda number: (number, 1)) \\\n",
        "                    .reduceByKey(add)\n",
        "print('finalizado')"
      ],
      "metadata": {
        "id": "NPUDIaW9tCpU",
        "colab": {
          "base_uri": "https://localhost:8080/"
        },
        "outputId": "8b432645-b430-4270-d0c1-cf71022cb209"
      },
      "execution_count": null,
      "outputs": [
        {
          "output_type": "stream",
          "name": "stdout",
          "text": [
            "finalizado\n"
          ]
        }
      ]
    },
    {
      "cell_type": "code",
      "source": [
        "output = countsRdd.collect()\n",
        "for (number, count) in output:\n",
        "    print(number, count)"
      ],
      "metadata": {
        "colab": {
          "base_uri": "https://localhost:8080/"
        },
        "id": "U2T8LM79q0SU",
        "outputId": "2fb86f33-3461-494b-a233-f084cc66f133"
      },
      "execution_count": null,
      "outputs": [
        {
          "output_type": "stream",
          "name": "stdout",
          "text": [
            "2 500165\n",
            "10 500634\n",
            "8 500646\n",
            "6 500755\n",
            "0 500428\n",
            "4 498513\n"
          ]
        }
      ]
    },
    {
      "cell_type": "code",
      "source": [
        "linesRdd.count()"
      ],
      "metadata": {
        "colab": {
          "base_uri": "https://localhost:8080/"
        },
        "id": "Qx1GqJR-rTLU",
        "outputId": "ca1fc4a1-ca5c-4775-f1ba-1c6cbdd6933e"
      },
      "execution_count": null,
      "outputs": [
        {
          "output_type": "execute_result",
          "data": {
            "text/plain": [
              "50000000"
            ]
          },
          "metadata": {},
          "execution_count": 11
        }
      ]
    },
    {
      "cell_type": "code",
      "source": [],
      "metadata": {
        "id": "UvwZnE-OxM_e"
      },
      "execution_count": null,
      "outputs": []
    }
  ]
}